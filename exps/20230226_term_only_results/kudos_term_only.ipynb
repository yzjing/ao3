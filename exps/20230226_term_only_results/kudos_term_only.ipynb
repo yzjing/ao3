{
 "cells": [
  {
   "cell_type": "code",
   "execution_count": 1,
   "metadata": {},
   "outputs": [
    {
     "name": "stderr",
     "output_type": "stream",
     "text": [
      "/opt/anaconda3/envs/py37/lib/python3.7/site-packages/ipykernel_launcher.py:16: MatplotlibDeprecationWarning: \n",
      "The mpl_toolkits.axes_grid1.colorbar module was deprecated in Matplotlib 3.2 and will be removed two minor releases later. Use matplotlib.colorbar instead.\n",
      "  app.launch_new_instance()\n"
     ]
    }
   ],
   "source": [
    "import pandas as pd\n",
    "import os\n",
    "import matplotlib.pyplot as plt\n",
    "%matplotlib inline\n",
    "import numpy as np\n",
    "import random\n",
    "from scipy import stats, spatial\n",
    "import pickle\n",
    "from matplotlib import rc\n",
    "rc('font',**{'family':'sans-serif','sans-serif':['Helvetica']})\n",
    "## for Palatino and other serif fonts use:\n",
    "#rc('font',**{'family':'serif','serif':['Palatino']})\n",
    "rc('text', usetex=True)\n",
    "import csv\n",
    "from mpl_toolkits.axes_grid1 import make_axes_locatable\n",
    "from mpl_toolkits.axes_grid1.colorbar import colorbar\n"
   ]
  },
  {
   "cell_type": "code",
   "execution_count": 2,
   "metadata": {},
   "outputs": [],
   "source": [
    "tfidf_path = '../../data/tfidf_merged_chs_20211216_nocrossover/'"
   ]
  },
  {
   "cell_type": "code",
   "execution_count": 3,
   "metadata": {},
   "outputs": [],
   "source": [
    "# fandom_list = ['harry_potter',\n",
    "#  'dcu',\n",
    "#  'doctor_who_&_related_fandoms',\n",
    "#  'arthurian_mythology_&_related_fandoms',\n",
    "#  'supernatural',\n",
    "#  'haikyuu',\n",
    "#  'kuroko_no_basuke',\n",
    "#  'hamilton_miranda',\n",
    "#  'dragon_age_all_media_types',\n",
    "#  'the_walking_dead_&_related_fandoms',\n",
    "#  'buffy_the_vampire_slayer',\n",
    "#  'naruto',\n",
    "#  'tolkien_j_r_r_works_&_related_fandoms',\n",
    "#  'hetalia_axis_powers',\n",
    "#  'attack_on_titan',\n",
    "#  'ms_paint_adventures',\n",
    "#  'marvel',\n",
    "#  'one_direction',\n",
    "#  'sherlock_holmes_&_related_fandoms']"
   ]
  },
  {
   "cell_type": "code",
   "execution_count": 4,
   "metadata": {},
   "outputs": [],
   "source": [
    "fandom_list = [i for i in os.listdir(tfidf_path) if 'tsv' in i]"
   ]
  },
  {
   "cell_type": "code",
   "execution_count": 5,
   "metadata": {},
   "outputs": [
    {
     "data": {
      "text/plain": [
       "['star_wars_all_media_types_temporal_tfidf_cos_merged_chapters_20211216_no_crossover.tsv',\n",
       " 'buffy_the_vampire_slayer_temporal_tfidf_cos_merged_chapters_20211216_no_crossover.tsv',\n",
       " 'doctor_who_&_related_fandoms_temporal_tfidf_cos_merged_chapters_20211216_no_crossover.tsv',\n",
       " 'harry_potter_temporal_tfidf_cos_merged_chapters_20211216_no_crossover.tsv',\n",
       " 'one_direction_temporal_tfidf_cos_merged_chapters_20211216_no_crossover.tsv',\n",
       " 'the_walking_dead_&_related_fandoms_temporal_tfidf_cos_merged_chapters_20211216_no_crossover.tsv',\n",
       " 'haikyuu_temporal_tfidf_cos_merged_chapters_20211216_no_crossover.tsv',\n",
       " 'ms_paint_adventures_temporal_tfidf_cos_merged_chapters_20211216_no_crossover.tsv',\n",
       " 'dcu_temporal_tfidf_cos_merged_chapters_20211216_no_crossover.tsv',\n",
       " 'supernatural_temporal_tfidf_cos_merged_chapters_20211216_no_crossover.tsv',\n",
       " 'kuroko_no_basuke_temporal_tfidf_cos_merged_chapters_20211216_no_crossover.tsv',\n",
       " 'naruto_temporal_tfidf_cos_merged_chapters_20211216_no_crossover.tsv',\n",
       " 'arthurian_mythology_&_related_fandoms_temporal_tfidf_cos_merged_chapters_20211216_no_crossover.tsv',\n",
       " 'tolkien_j_r_r_works_&_related_fandoms_temporal_tfidf_cos_merged_chapters_20211216_no_crossover.tsv',\n",
       " 'dragon_age_all_media_types_temporal_tfidf_cos_merged_chapters_20211216_no_crossover.tsv',\n",
       " 'hamilton_miranda_temporal_tfidf_cos_merged_chapters_20211216_no_crossover.tsv',\n",
       " 'attack_on_titan_temporal_tfidf_cos_merged_chapters_20211216_no_crossover.tsv',\n",
       " 'shakespare_william_works_temporal_tfidf_cos_merged_chapters_20211216_no_crossover.tsv',\n",
       " 'hetalia_axis_powers_temporal_tfidf_cos_merged_chapters_20211216_no_crossover.tsv',\n",
       " 'sherlock_holmes_&_related_fandoms_temporal_tfidf_cos_merged_chapters_20211216_no_crossover.tsv',\n",
       " 'marvel_temporal_tfidf_cos_merged_chapters_20211216_no_crossover.tsv',\n",
       " 'bishoujo_senshi_sailor_moon_temporal_tfidf_cos_merged_chapters_20211216_no_crossover.tsv']"
      ]
     },
     "execution_count": 5,
     "metadata": {},
     "output_type": "execute_result"
    }
   ],
   "source": [
    "fandom_list"
   ]
  },
  {
   "cell_type": "code",
   "execution_count": 6,
   "metadata": {},
   "outputs": [],
   "source": [
    "def var_bootstrap_resample(li):\n",
    "    if len(li) > 0:\n",
    "        var_original = np.var(li)\n",
    "        var_s = []\n",
    "        for i in range(100):\n",
    "            sample = []\n",
    "            for i in range(len(li)):\n",
    "                sample.append(random.choice(li))\n",
    "            var_s.append(np.var(sample))\n",
    "        tail = sorted(var_s)[5]\n",
    "        head = sorted(var_s)[95]\n",
    "        return (var_original, tail, head)"
   ]
  },
  {
   "cell_type": "code",
   "execution_count": 7,
   "metadata": {},
   "outputs": [],
   "source": [
    "def ave_bootstrap_resample(li):\n",
    "    if len(li) > 0:\n",
    "        ave_original = np.average(li)\n",
    "        ave_s = []\n",
    "        for i in range(100):\n",
    "            sample = []\n",
    "            for i in range(len(li)):\n",
    "                sample.append(random.choice(li))\n",
    "            ave_s.append(np.average(sample))\n",
    "        tail = sorted(ave_s)[5]\n",
    "        head = sorted(ave_s)[95]\n",
    "        return (ave_original, tail, head)"
   ]
  },
  {
   "cell_type": "code",
   "execution_count": 8,
   "metadata": {},
   "outputs": [],
   "source": [
    "def create_normed_dfs(df, field):\n",
    "\n",
    "#     turn into z scores\n",
    "    df[field] = np.log(df[field]+1)\n",
    "    df = df.replace([np.inf, -np.inf], np.nan)\n",
    "    df[field].dropna()\n",
    "    df[field] = (df[field] - df[field].mean())/df[field].std(ddof=0)\n",
    "\n",
    "    return df"
   ]
  },
  {
   "cell_type": "code",
   "execution_count": 9,
   "metadata": {},
   "outputs": [],
   "source": [
    "def create_dict(df, nov_field, suc_field, metric):\n",
    "    \n",
    "    # Make bins\n",
    "    df[nov_field] = df[nov_field].astype(float)\n",
    "    term_n = sorted(df[nov_field].tolist())\n",
    "    term_n = np.quantile(term_n, [0.1, 0.2, 0.3, 0.4, 0.5, 0.6, 0.7, 0.8, 0.9])\n",
    "    term_n = np.insert(term_n, 0, 0)\n",
    "    term_n = np.concatenate([term_n, [1]])\n",
    "    dic = {}\n",
    "    for i in range(len(term_n)-1):\n",
    "        df_s = df[(df[nov_field] >= term_n[i]) & (df[nov_field] < term_n[i+1])]\n",
    "        li = df_s[suc_field].tolist()\n",
    "        if len(li) > 0:\n",
    "            if metric == 'ave':\n",
    "                dic[term_n[i]] = ave_bootstrap_resample(li)\n",
    "            elif metric == 'var':\n",
    "                dic[term_n[i]] = var_bootstrap_resample(li)\n",
    "    return dic"
   ]
  },
  {
   "cell_type": "code",
   "execution_count": 10,
   "metadata": {},
   "outputs": [],
   "source": [
    "def generate_res(path, nov_field, suc_field, metric):\n",
    "    df_all = []\n",
    "    fandom_list = [i for i in os.listdir(path) if 'tsv' in i]\n",
    "    for i,fandom in enumerate(fandom_list):\n",
    "        df = pd.read_csv(os.path.join(path,fandom), sep = '\\t')\n",
    "        df = create_normed_dfs(df, suc_field)\n",
    "        df = df.replace([np.inf, -np.inf], np.nan)\n",
    "        df = df[[nov_field, suc_field]].dropna()\n",
    "        df_all.append(df)\n",
    "\n",
    "    df = pd.concat(df_all)\n",
    "    df = df.sort_values(by = nov_field)\n",
    "    df = df.sort_values(by = suc_field)\n",
    "    dic = create_dict(df, nov_field, suc_field, metric)\n",
    "\n",
    "    return dic\n",
    "    "
   ]
  },
  {
   "cell_type": "code",
   "execution_count": 11,
   "metadata": {},
   "outputs": [],
   "source": [
    "def generate_save_dics(suffix='None'):\n",
    "    tfidf_kudos_dict_var = generate_res(tfidf_path, 'Cos','Kudos', 'var')\n",
    "    tfidf_hits_dict_var = generate_res(tfidf_path, 'Cos','Hits', 'var')\n",
    "    tfidf_comments_dict_var = generate_res(tfidf_path, 'Cos','Comments', 'var')\n",
    "    tfidf_bookmarks_dict_var = generate_res(tfidf_path, 'Cos','Bookmarks', 'var')\n",
    "    pickle.dump(tfidf_kudos_dict_var, open('tfidf_kudos_dict_var_{}.p'.format(suffix), 'wb'))\n",
    "    pickle.dump(tfidf_hits_dict_var, open('tfidf_hits_dict_var_{}.p'.format(suffix), 'wb'))\n",
    "    pickle.dump(tfidf_comments_dict_var, open('tfidf_comments_dict_var_{}.p'.format(suffix), 'wb'))\n",
    "    pickle.dump(tfidf_bookmarks_dict_var, open('tfidf_bookmarks_dict_var_{}.p'.format(suffix), 'wb'))\n",
    "    \n",
    "    tfidf_kudos_dict_ave = generate_res(tfidf_path, 'Cos','Kudos', 'ave')\n",
    "    tfidf_hits_dict_ave = generate_res(tfidf_path, 'Cos','Hits', 'ave')\n",
    "    tfidf_comments_dict_ave = generate_res(tfidf_path, 'Cos','Comments', 'ave')\n",
    "    tfidf_bookmarks_dict_ave = generate_res(tfidf_path, 'Cos','Bookmarks', 'ave')\n",
    "    pickle.dump(tfidf_kudos_dict_ave, open('tfidf_kudos_dict_ave_{}.p'.format(suffix), 'wb'))\n",
    "    pickle.dump(tfidf_hits_dict_ave, open('tfidf_hits_dict_ave_{}.p'.format(suffix), 'wb'))\n",
    "    pickle.dump(tfidf_comments_dict_ave, open('tfidf_comments_dict_ave_{}.p'.format(suffix), 'wb'))\n",
    "    pickle.dump(tfidf_bookmarks_dict_ave, open('tfidf_bookmarks_dict_ave_{}.p'.format(suffix), 'wb'))\n",
    "    \n"
   ]
  },
  {
   "cell_type": "code",
   "execution_count": 13,
   "metadata": {},
   "outputs": [],
   "source": [
    "generate_save_dics()"
   ]
  },
  {
   "cell_type": "code",
   "execution_count": 14,
   "metadata": {},
   "outputs": [],
   "source": [
    "def load_dics(suffix='None'):\n",
    "    global tfidf_kudos_dict_var, tfidf_hits_dict_var, tfidf_comments_dict_var, tfidf_bookmarks_dict_var\n",
    "    global tfidf_kudos_dict_ave, tfidf_hits_dict_ave, tfidf_comments_dict_ave, tfidf_bookmarks_dict_ave\n",
    "    \n",
    "    tfidf_kudos_dict_var = pickle.load(open('tfidf_kudos_dict_var_{}.p'.format(suffix), 'rb'))\n",
    "    tfidf_hits_dict_var = pickle.load(open('tfidf_hits_dict_var_{}.p'.format(suffix), 'rb'))\n",
    "    tfidf_comments_dict_var = pickle.load(open('tfidf_comments_dict_var_{}.p'.format(suffix), 'rb'))\n",
    "    tfidf_bookmarks_dict_var = pickle.load(open('tfidf_bookmarks_dict_var_{}.p'.format(suffix), 'rb'))\n",
    "      \n",
    "    tfidf_kudos_dict_ave = pickle.load(open('tfidf_kudos_dict_ave_{}.p'.format(suffix), 'rb'))\n",
    "    tfidf_hits_dict_ave = pickle.load(open('tfidf_hits_dict_ave_{}.p'.format(suffix), 'rb'))\n",
    "    tfidf_comments_dict_ave = pickle.load(open('tfidf_comments_dict_ave_{}.p'.format(suffix), 'rb'))\n",
    "    tfidf_bookmarks_dict_ave = pickle.load(open('tfidf_bookmarks_dict_ave_{}.p'.format(suffix), 'rb'))\n",
    "    \n"
   ]
  },
  {
   "cell_type": "code",
   "execution_count": 15,
   "metadata": {},
   "outputs": [],
   "source": [
    "load_dics()"
   ]
  },
  {
   "cell_type": "code",
   "execution_count": 16,
   "metadata": {},
   "outputs": [
    {
     "data": {
      "text/plain": [
       "{0.0: (0.9329566375217464, 0.9242969636448429, 0.9445416075669476),\n",
       " 0.12840409458345106: (0.9056586804715193,\n",
       "  0.8970903765667919,\n",
       "  0.9148919502796822),\n",
       " 0.16200703124927748: (0.9117434490744105,\n",
       "  0.901172324520343,\n",
       "  0.9194605070677587),\n",
       " 0.19266450094833001: (0.9155078977221967,\n",
       "  0.9068212178950752,\n",
       "  0.9249577582919264),\n",
       " 0.2254040217754605: (0.9456339806534599,\n",
       "  0.9361703806480205,\n",
       "  0.9545908855647147),\n",
       " 0.2642774105439776: (0.9467701499996051,\n",
       "  0.9368664763295407,\n",
       "  0.9573051971163746),\n",
       " 0.31090186012169485: (0.9533513508238056,\n",
       "  0.9430464110902511,\n",
       "  0.9621194329680334),\n",
       " 0.3647085413358686: (0.9381011371754462,\n",
       "  0.9286995667704997,\n",
       "  0.947927006775338),\n",
       " 0.4255718582023647: (0.9337843076206609,\n",
       "  0.9239883882605138,\n",
       "  0.9441907076546608),\n",
       " 0.5054632399573804: (1.0079422563997007,\n",
       "  0.9993666594219641,\n",
       "  1.0169293243628712)}"
      ]
     },
     "execution_count": 16,
     "metadata": {},
     "output_type": "execute_result"
    }
   ],
   "source": [
    "tfidf_kudos_dict_var"
   ]
  },
  {
   "cell_type": "code",
   "execution_count": 17,
   "metadata": {},
   "outputs": [],
   "source": [
    "def create_xs(keys):\n",
    "    xs = []\n",
    "    for i in range(len(keys)-1):\n",
    "        xs.append(keys[i] + (keys[i+1] - keys[i])/2)\n",
    "    return xs"
   ]
  },
  {
   "cell_type": "code",
   "execution_count": 18,
   "metadata": {},
   "outputs": [],
   "source": [
    "def extract_plot_vals(dic):\n",
    "    keys = sorted(dic.keys())\n",
    "    keys.append(1)\n",
    "    x = create_xs(keys)\n",
    "    y = [dic[j][0] for j in keys[:-1]]\n",
    "    lower_error = [dic[j][0] - dic[j][1] for j in keys[:-1]]\n",
    "    upper_error = [dic[j][2] - dic[j][0] for j in keys[:-1]]\n",
    "    asymmetric_error = [lower_error, upper_error]\n",
    "    return x,y,asymmetric_error"
   ]
  },
  {
   "cell_type": "code",
   "execution_count": 19,
   "metadata": {},
   "outputs": [
    {
     "name": "stdout",
     "output_type": "stream",
     "text": [
      "[0.06420204729172553, 0.14520556291636427, 0.17733576609880375, 0.20903426136189526, 0.24484071615971903, 0.2875896353328362, 0.33780520072878173, 0.39514019976911663, 0.46551754907987253, 0.7527316199786902]\n"
     ]
    }
   ],
   "source": [
    "x,y,e = extract_plot_vals(tfidf_kudos_dict_ave)\n",
    "print(x)"
   ]
  },
  {
   "cell_type": "markdown",
   "metadata": {},
   "source": [
    "## Add heatmap"
   ]
  },
  {
   "cell_type": "code",
   "execution_count": 20,
   "metadata": {},
   "outputs": [],
   "source": [
    "# df_all = []\n",
    "# for i,fandom in enumerate(fandom_list):\n",
    "#     df_tfidf = pd.read_csv(os.path.join(tfidf_path,fandom + '_tfidf_merged_chapters_20230115_largest_rel.tsv'), \\\n",
    "#                            sep = '\\t',  quoting=csv.QUOTE_NONE)\n",
    "#     del df_tfidf['index']\n",
    "#     df_lda = pd.read_csv(os.path.join(lda_path,fandom + '_lda_with_dist_merged_chs_20230115_largest_rel.tsv'),\\\n",
    "#                          sep = '\\t',  quoting=csv.QUOTE_NONE)\n",
    "# #     df['Topic_entropy'] = df.apply(lambda row: entropy(eval(row['Dist'])), axis=1)\n",
    "\n",
    "#     del df_lda['index']\n",
    "#     df_tfidf = df_tfidf.astype('object')\n",
    "#     df_lda = df_lda.astype('object')\n",
    "\n",
    "#     #     df_tfidf['Chapters'] = df_tfidf.astype('object')\n",
    "#     df = pd.merge(df_tfidf, df_lda, on=['AdditionalTags', 'ArchiveWarnings', 'Author', 'Bookmarks', 'Category',\\\n",
    "#  'Chapters' ,'Characters','Comments' ,'CompleteDate',\\\n",
    "#  'Fandoms', 'Hits' ,'Kudos', 'Language' ,'PublishDate' ,'Rating',\\\n",
    "#  'Relationship','Title' ,'URL' ,'UpdateDate' ,'Words'], how='inner')\n",
    "\n",
    "#     df = df.replace([np.inf, -np.inf], np.nan)\n",
    "#     df['Hits'].fillna(0, inplace=True)\n",
    "#     df['Kudos'].fillna(0, inplace=True)\n",
    "#     df['Bookmarks'].fillna(0, inplace=True)\n",
    "#     df['Comments'].fillna(0, inplace=True)\n",
    "\n",
    "#     df_all.append(df)"
   ]
  },
  {
   "cell_type": "code",
   "execution_count": 22,
   "metadata": {},
   "outputs": [],
   "source": [
    "# df_all = pd.concat(df_all)"
   ]
  },
  {
   "cell_type": "code",
   "execution_count": 23,
   "metadata": {},
   "outputs": [],
   "source": [
    "# df_all.head(2)"
   ]
  },
  {
   "cell_type": "code",
   "execution_count": 24,
   "metadata": {
    "scrolled": true
   },
   "outputs": [
    {
     "data": {
      "image/png": "[encoded data removed]",
      "text/plain": [
       "<Figure size 1080x360 with 2 Axes>"
      ]
     },
     "metadata": {
      "needs_background": "light"
     },
     "output_type": "display_data"
    }
   ],
   "source": [
    "fig, axes = plt.subplots(1,2,figsize = (15,5))\n",
    "# fig.subplots_adjust(bottom = 0.4)\n",
    "\n",
    "\n",
    "\n",
    "x, y, err = extract_plot_vals(tfidf_kudos_dict_ave)\n",
    "axes[0].errorbar(x, y, yerr=err, color='black')\n",
    "axes[0].scatter(x, y, label = 'Kudos',facecolor='none',edgecolor='black')\n",
    "\n",
    "x, y, err = extract_plot_vals(tfidf_hits_dict_ave)\n",
    "axes[0].errorbar(x, y, yerr=err, c='orange')\n",
    "axes[0].scatter(x, y, marker='s', label = 'Hits',facecolor='none',edgecolor='orange')\n",
    "\n",
    "x, y, err = extract_plot_vals(tfidf_comments_dict_ave)\n",
    "axes[0].errorbar(x, y, yerr=err, c='purple')\n",
    "axes[0].scatter(x, y, marker='D', label = 'Comments',facecolor='none',edgecolor='purple')\n",
    "\n",
    "x, y, err = extract_plot_vals(tfidf_bookmarks_dict_ave)\n",
    "axes[0].errorbar(x, y, yerr=err, c='green')\n",
    "axes[0].scatter(x, y, marker = '<', label = 'Bookmarks',facecolor='none',edgecolor='green')\n",
    "\n",
    "# plt.legend(prop={'size': 15})\n",
    "axes[0].set_ylabel('Average of Success ($\\it{z}$-score)',fontsize=20)\n",
    "axes[0].set_xlabel('Term novelty',fontsize=20)\n",
    "axes[0].tick_params(labelsize=20)\n",
    "\n",
    "\n",
    "x, y, err = extract_plot_vals(tfidf_kudos_dict_var)\n",
    "axes[1].errorbar(x, y, yerr=err, color='black')\n",
    "axes[1].scatter(x, y, label = 'Kudos',facecolor='none',edgecolor='black')\n",
    "\n",
    "x, y, err = extract_plot_vals(tfidf_hits_dict_var)\n",
    "axes[1].errorbar(x, y, yerr=err, c='orange')\n",
    "axes[1].scatter(x, y, marker='s', label = 'Hits',facecolor='none',edgecolor='orange')\n",
    "\n",
    "x, y, err = extract_plot_vals(tfidf_comments_dict_var)\n",
    "axes[1].errorbar(x, y, yerr=err, c='purple')\n",
    "axes[1].scatter(x, y, marker='D', label = 'Comments',facecolor='none',edgecolor='purple')\n",
    "\n",
    "x, y, err = extract_plot_vals(tfidf_bookmarks_dict_var)\n",
    "axes[1].errorbar(x, y, yerr=err, c='green')\n",
    "axes[1].scatter(x, y, marker = '<', label = 'Bookmarks',facecolor='none',edgecolor='green')\n",
    "axes[1].set_ylabel('Variance of Success ($\\it{z}$-score)',fontsize=20)\n",
    "axes[1].set_xlabel('Term novelty',fontsize=20)\n",
    "axes[1].tick_params(labelsize=20)\n",
    "plt.legend(prop={'size': 15})\n",
    "# plt.xlabel('$\\it{s}^{(topic)}$, topic novelty', fontsize = 15)\n",
    "# plt.ylabel('Variance of Success ($\\it{z}$-score)',fontsize=20)\n",
    "\n",
    "# fig.text(0.45, 0.66, '$\\it{s}^{(term)}$, term novelty',fontsize=20)\n",
    "# fig.text(0.45, 0.35, '$\\it{s}^{(topic)}$, topic novelty',fontsize=20)\n",
    "# fig.text(0.04, 0.97, 'a',fontsize=20)\n",
    "# fig.text(0.54, 0.97, 'b',fontsize=20)\n",
    "# fig.text(0.04, 0.64, 'c',fontsize=20)\n",
    "# fig.text(0.54, 0.64, 'd',fontsize=20)\n",
    "# fig.text(0.04, 0.33, 'e',fontsize=20)\n",
    "# fig.text(0.54, 0.33, 'f',fontsize=20)\n",
    "\n",
    "plt.subplots_adjust(left=None, bottom=None, right=None, top=None, wspace=0.3, hspace=0.3)\n",
    "\n",
    "plt.tight_layout()\n",
    "plt.savefig('scatter_var_ave_term_only_no_crossover.pdf', type='pdf', bbox_inches='tight')\n"
   ]
  },
  {
   "cell_type": "code",
   "execution_count": null,
   "metadata": {},
   "outputs": [],
   "source": [
    "# fandom_list = [i for i in os.listdir(lda_path) if 'tsv' in i]\n",
    "# for i,fandom in enumerate(fandom_list):\n",
    "#     df = pd.read_csv(os.path.join(lda_path,fandom), sep = '\\t')\n",
    "#     plt.figure()\n",
    "#     plt.hist(df.JSD.tolist())\n",
    "# #     plt.title(str(fandom))"
   ]
  },
  {
   "cell_type": "code",
   "execution_count": null,
   "metadata": {},
   "outputs": [],
   "source": [
    "# lda_path_2 = '../../data/lda_merged_chs_202001/'\n",
    "# fandom_list = [i for i in os.listdir(lda_path_2) if 'tsv' in i]\n",
    "# for i,fandom in enumerate(fandom_list):\n",
    "#     df = pd.read_csv(os.path.join(lda_path_2,fandom), sep = '\\t')\n",
    "#     plt.figure()\n",
    "#     plt.hist(df.JSD.tolist())\n",
    "# #     plt.title(str(fandom))"
   ]
  },
  {
   "cell_type": "code",
   "execution_count": null,
   "metadata": {},
   "outputs": [],
   "source": []
  }
 ],
 "metadata": {
  "anaconda-cloud": {},
  "kernelspec": {
   "display_name": "Python 3 (ipykernel)",
   "language": "python",
   "name": "python3"
  },
  "language_info": {
   "codemirror_mode": {
    "name": "ipython",
    "version": 3
   },
   "file_extension": ".py",
   "mimetype": "text/x-python",
   "name": "python",
   "nbconvert_exporter": "python",
   "pygments_lexer": "ipython3",
   "version": "3.7.7"
  }
 },
 "nbformat": 4,
 "nbformat_minor": 1
}
