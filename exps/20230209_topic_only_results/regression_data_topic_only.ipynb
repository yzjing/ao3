{
 "cells": [
  {
   "cell_type": "code",
   "execution_count": 2,
   "metadata": {},
   "outputs": [],
   "source": [
    "import pandas as pd\n",
    "import os\n",
    "import matplotlib.pyplot as plt\n",
    "%matplotlib inline\n",
    "import numpy as np\n",
    "from datetime import date\n",
    "from statsmodels.formula.api import ols\n",
    "import statsmodels.api as sm\n",
    "from matplotlib import colors"
   ]
  },
  {
   "cell_type": "markdown",
   "metadata": {},
   "source": [
    "### Create regression data"
   ]
  },
  {
   "cell_type": "code",
   "execution_count": 3,
   "metadata": {},
   "outputs": [],
   "source": [
    "lda_path = '../../data/lda_merged_chs_20211216_no_crossover/'"
   ]
  },
  {
   "cell_type": "code",
   "execution_count": 4,
   "metadata": {},
   "outputs": [],
   "source": [
    "fandom_list = ['harry_potter',\n",
    " 'dcu',\n",
    " 'doctor_who_&_related_fandoms',\n",
    " 'star_wars_all_media_types',\n",
    " 'arthurian_mythology_&_related_fandoms',\n",
    " 'supernatural',\n",
    " 'haikyuu',\n",
    " 'kuroko_no_basuke',\n",
    " 'hamilton_miranda',\n",
    " 'dragon_age_all_media_types',\n",
    " 'the_walking_dead_&_related_fandoms',\n",
    " 'buffy_the_vampire_slayer',\n",
    "#  'les_miserables_all_media_types',\n",
    " 'naruto',\n",
    " 'tolkien_j_r_r_works_&_related_fandoms',\n",
    " 'shakespare_william_works',\n",
    " 'hetalia_axis_powers',\n",
    " 'attack_on_titan',\n",
    " 'ms_paint_adventures',\n",
    " 'marvel',\n",
    " 'bishoujo_senshi_sailor_moon',\n",
    " 'one_direction',\n",
    " 'sherlock_holmes_&_related_fandoms']"
   ]
  },
  {
   "cell_type": "code",
   "execution_count": 5,
   "metadata": {},
   "outputs": [],
   "source": [
    "def first_rel(field):\n",
    "    try:\n",
    "        return field.split(',')[0]\n",
    "    except:\n",
    "        return field"
   ]
  },
  {
   "cell_type": "code",
   "execution_count": 6,
   "metadata": {},
   "outputs": [],
   "source": [
    "def find_major_rel(df):\n",
    "    df['Relationship'] = df.apply(lambda row: first_rel(row['Relationship']), axis=1)\n",
    "    counts = df['Relationship'].value_counts()\n",
    "    return counts.keys()[0:5]\n"
   ]
  },
  {
   "cell_type": "code",
   "execution_count": 86,
   "metadata": {},
   "outputs": [],
   "source": [
    "def date_today(cell):\n",
    "    try:\n",
    "        y, m, d = cell.split('-')\n",
    "        return abs(date.today() - date(int(y), int(m), int(d))).days\n",
    "    except:\n",
    "        return float('nan')"
   ]
  },
  {
   "cell_type": "code",
   "execution_count": null,
   "metadata": {},
   "outputs": [],
   "source": [
    "def find_history(field_list):\n",
    "    field_list = [10000000 if np.isnan(x) else x for x in field_list]\n",
    "    return np.amin(field_list)"
   ]
  },
  {
   "cell_type": "code",
   "execution_count": 102,
   "metadata": {},
   "outputs": [
    {
     "name": "stdout",
     "output_type": "stream",
     "text": [
      "1613\n",
      "152\n",
      "626\n",
      "231\n",
      "Series([], Name: history, dtype: float64)\n",
      "167\n",
      "1281\n",
      "25\n",
      "16\n",
      "4\n",
      "501\n",
      "50\n",
      "439\n",
      "210\n",
      "1322\n",
      "5\n",
      "259\n",
      "176\n",
      "287\n",
      "Series([], Name: history, dtype: float64)\n",
      "382\n",
      "Series([], Name: history, dtype: float64)\n",
      "36\n",
      "192\n",
      "402\n"
     ]
    }
   ],
   "source": [
    "df_all = []\n",
    "for i,fandom in enumerate(fandom_list):\n",
    "    df = pd.read_csv(os.path.join(lda_path,fandom + '_lda_with_dist_merged_chs_no_crossover_20211216.tsv'), sep ='\\t',  quotechar=None, quoting=3)\n",
    "    del df['index']\n",
    "#     del df_lda['Chapters']\n",
    "#     print(sorted(df_tfidf.Kudos.tolist())[0:10])\n",
    "#     print(sorted(df_lda.Kudos.tolist())[0:10])\n",
    "    df['UpdateDate'] = df['UpdateDate'].astype('object')\n",
    "\n",
    "    df['fandom_category'] = fandom    \n",
    "\n",
    "    df = df.replace([np.inf, -np.inf], np.nan)\n",
    "    df['Hits'].fillna(0, inplace=True)\n",
    "    df['Kudos'].fillna(0, inplace=True)\n",
    "    df['Bookmarks'].fillna(0, inplace=True)\n",
    "    df['Comments'].fillna(0, inplace=True)\n",
    "    print(len(df[df.Kudos == 0]))\n",
    "    freq_rel = find_major_rel(df)\n",
    "    df['Relationship'] = df['Relationship'].apply(lambda x: first_rel(x))\n",
    "    df['Freq_relationship'] = df['Relationship'].apply(lambda x: 1 if x in freq_rel else 0)\n",
    "    del df['Relationship']\n",
    "    \n",
    "    # history of the fic\n",
    "    df['PublishDate'] = df.apply(lambda row: date_today(row['PublishDate']), axis = 1)\n",
    "    df['CompleteDate'] = df.apply(lambda row: date_today(row['CompleteDate']), axis = 1)\n",
    "    df['UpdateDate'] = df.apply(lambda row: date_today(row['UpdateDate']), axis = 1)\n",
    "    df['history'] = df.apply(lambda row: find_history([row['PublishDate'], row['CompleteDate'], row['UpdateDate']]), axis=1)\n",
    "    \n",
    "    # control variables for author\n",
    "    author_kudos_dic = {}\n",
    "    author_history_dic = {}\n",
    "    for author in list(set(df['Author'])):\n",
    "        temp = df[df['Author']==author]\n",
    "        author_ave = np.average(temp['Kudos'])\n",
    "        author_kudos_dic[author] = author_ave\n",
    "        try:\n",
    "            author_history_dic[author] = max(temp['history'])\n",
    "        except:\n",
    "            print(temp['history'])\n",
    "            \n",
    "    df = df.dropna(subset=['Author'])\n",
    "    \n",
    "    counts = df['Author'].value_counts()\n",
    "#     idx = counts[counts >= 10].index\n",
    "    \n",
    "    df['author_fic_cnt'] = df['Author'].apply(lambda x: counts[x])\n",
    "    df['author_kudos_ave'] = df['Author'].apply(lambda x: author_kudos_dic[x])\n",
    "    df['author_history'] = df['Author'].apply(lambda x: author_history_dic[x])\n",
    "        \n",
    "    df_all.append(df)\n"
   ]
  },
  {
   "cell_type": "code",
   "execution_count": 103,
   "metadata": {},
   "outputs": [],
   "source": [
    "df_all = pd.concat(df_all)"
   ]
  },
  {
   "cell_type": "code",
   "execution_count": 104,
   "metadata": {},
   "outputs": [
    {
     "data": {
      "text/plain": [
       "540975"
      ]
     },
     "execution_count": 104,
     "metadata": {},
     "output_type": "execute_result"
    }
   ],
   "source": [
    "len(df_all)"
   ]
  },
  {
   "cell_type": "code",
   "execution_count": 105,
   "metadata": {
    "scrolled": true
   },
   "outputs": [
    {
     "data": {
      "text/plain": [
       "109428"
      ]
     },
     "execution_count": 105,
     "metadata": {},
     "output_type": "execute_result"
    }
   ],
   "source": [
    "len(set(df_all['Author']))"
   ]
  },
  {
   "cell_type": "code",
   "execution_count": 106,
   "metadata": {},
   "outputs": [
    {
     "data": {
      "text/plain": [
       "0.6825186330754428"
      ]
     },
     "execution_count": 106,
     "metadata": {},
     "output_type": "execute_result"
    }
   ],
   "source": [
    "np.percentile(df_all['JSD'], 99.9)"
   ]
  },
  {
   "cell_type": "code",
   "execution_count": 107,
   "metadata": {},
   "outputs": [
    {
     "data": {
      "text/html": [
       "<div>\n",
       "<style scoped>\n",
       "    .dataframe tbody tr th:only-of-type {\n",
       "        vertical-align: middle;\n",
       "    }\n",
       "\n",
       "    .dataframe tbody tr th {\n",
       "        vertical-align: top;\n",
       "    }\n",
       "\n",
       "    .dataframe thead th {\n",
       "        text-align: right;\n",
       "    }\n",
       "</style>\n",
       "<table border=\"1\" class=\"dataframe\">\n",
       "  <thead>\n",
       "    <tr style=\"text-align: right;\">\n",
       "      <th></th>\n",
       "      <th>AdditionalTags</th>\n",
       "      <th>ArchiveWarnings</th>\n",
       "      <th>Author</th>\n",
       "      <th>Category</th>\n",
       "      <th>Chapters</th>\n",
       "      <th>Characters</th>\n",
       "      <th>Fandoms</th>\n",
       "      <th>Kudos</th>\n",
       "      <th>Language</th>\n",
       "      <th>Rating</th>\n",
       "      <th>...</th>\n",
       "      <th>Bookmarks</th>\n",
       "      <th>URL</th>\n",
       "      <th>Dist</th>\n",
       "      <th>JSD</th>\n",
       "      <th>fandom_category</th>\n",
       "      <th>Freq_relationship</th>\n",
       "      <th>history</th>\n",
       "      <th>author_fic_cnt</th>\n",
       "      <th>author_kudos_ave</th>\n",
       "      <th>author_history</th>\n",
       "    </tr>\n",
       "  </thead>\n",
       "  <tbody>\n",
       "  </tbody>\n",
       "</table>\n",
       "<p>0 rows × 27 columns</p>\n",
       "</div>"
      ],
      "text/plain": [
       "Empty DataFrame\n",
       "Columns: [AdditionalTags, ArchiveWarnings, Author, Category, Chapters, Characters, Fandoms, Kudos, Language, Rating, Title, Words, PublishDate, UpdateDate, CompleteDate, Comments, Hits, Bookmarks, URL, Dist, JSD, fandom_category, Freq_relationship, history, author_fic_cnt, author_kudos_ave, author_history]\n",
       "Index: []\n",
       "\n",
       "[0 rows x 27 columns]"
      ]
     },
     "execution_count": 107,
     "metadata": {},
     "output_type": "execute_result"
    }
   ],
   "source": [
    "df_all[df_all['Title'].str.contains('Groot')]"
   ]
  },
  {
   "cell_type": "code",
   "execution_count": 109,
   "metadata": {},
   "outputs": [
    {
     "data": {
      "text/plain": [
       "array(['AdditionalTags', 'ArchiveWarnings', 'Author', 'Category',\n",
       "       'Chapters', 'Characters', 'Fandoms', 'Kudos', 'Language', 'Rating',\n",
       "       'Title', 'Words', 'PublishDate', 'UpdateDate', 'CompleteDate',\n",
       "       'Comments', 'Hits', 'Bookmarks', 'URL', 'Dist', 'JSD',\n",
       "       'fandom_category', 'Freq_relationship', 'history',\n",
       "       'author_fic_cnt', 'author_kudos_ave', 'author_history'],\n",
       "      dtype=object)"
      ]
     },
     "execution_count": 109,
     "metadata": {},
     "output_type": "execute_result"
    }
   ],
   "source": [
    "df_all.columns.values"
   ]
  },
  {
   "cell_type": "code",
   "execution_count": 110,
   "metadata": {},
   "outputs": [
    {
     "data": {
      "text/html": [
       "<div>\n",
       "<style scoped>\n",
       "    .dataframe tbody tr th:only-of-type {\n",
       "        vertical-align: middle;\n",
       "    }\n",
       "\n",
       "    .dataframe tbody tr th {\n",
       "        vertical-align: top;\n",
       "    }\n",
       "\n",
       "    .dataframe thead th {\n",
       "        text-align: right;\n",
       "    }\n",
       "</style>\n",
       "<table border=\"1\" class=\"dataframe\">\n",
       "  <thead>\n",
       "    <tr style=\"text-align: right;\">\n",
       "      <th></th>\n",
       "      <th>AdditionalTags</th>\n",
       "      <th>ArchiveWarnings</th>\n",
       "      <th>Author</th>\n",
       "      <th>Category</th>\n",
       "      <th>Chapters</th>\n",
       "      <th>Characters</th>\n",
       "      <th>Fandoms</th>\n",
       "      <th>Kudos</th>\n",
       "      <th>Language</th>\n",
       "      <th>Rating</th>\n",
       "      <th>...</th>\n",
       "      <th>Bookmarks</th>\n",
       "      <th>URL</th>\n",
       "      <th>Dist</th>\n",
       "      <th>JSD</th>\n",
       "      <th>fandom_category</th>\n",
       "      <th>Freq_relationship</th>\n",
       "      <th>history</th>\n",
       "      <th>author_fic_cnt</th>\n",
       "      <th>author_kudos_ave</th>\n",
       "      <th>author_history</th>\n",
       "    </tr>\n",
       "  </thead>\n",
       "  <tbody>\n",
       "    <tr>\n",
       "      <th>0</th>\n",
       "      <td>Afterlife, Humor, Friendship, Friendship/Love</td>\n",
       "      <td>No Archive Warnings Apply</td>\n",
       "      <td>crossingwinter</td>\n",
       "      <td>F/MGen</td>\n",
       "      <td>24</td>\n",
       "      <td>Ariana Dumbledore, Gideon Prewett, Fabian Prew...</td>\n",
       "      <td>['Harry Potter - J. K. Rowling']</td>\n",
       "      <td>53.0</td>\n",
       "      <td>English</td>\n",
       "      <td>Teen And Up Audiences</td>\n",
       "      <td>...</td>\n",
       "      <td>504</td>\n",
       "      <td>http://archiveofourown.org/works/488677/chapte...</td>\n",
       "      <td>[2.7186147e-07, 2.7186147e-07, 2.7186147e-07, ...</td>\n",
       "      <td>0.245356</td>\n",
       "      <td>harry_potter</td>\n",
       "      <td>0</td>\n",
       "      <td>5196.0</td>\n",
       "      <td>19</td>\n",
       "      <td>17.473684</td>\n",
       "      <td>5200.0</td>\n",
       "    </tr>\n",
       "    <tr>\n",
       "      <th>1</th>\n",
       "      <td>Alternate Universe, Suicide</td>\n",
       "      <td>Major Character Death, Rape/Non-Con</td>\n",
       "      <td>Batsutousai</td>\n",
       "      <td>F/MM/M</td>\n",
       "      <td>1</td>\n",
       "      <td>Harry Potter, Voldemort, Ron Weasley</td>\n",
       "      <td>['Harry Potter - J. K. Rowling']</td>\n",
       "      <td>80.0</td>\n",
       "      <td>English</td>\n",
       "      <td>Mature</td>\n",
       "      <td>...</td>\n",
       "      <td>7</td>\n",
       "      <td>http://archiveofourown.org/works/208853?view_a...</td>\n",
       "      <td>[4.848601e-06, 4.848601e-06, 4.848601e-06, 4.8...</td>\n",
       "      <td>0.165296</td>\n",
       "      <td>harry_potter</td>\n",
       "      <td>1</td>\n",
       "      <td>5201.0</td>\n",
       "      <td>13</td>\n",
       "      <td>485.307692</td>\n",
       "      <td>5201.0</td>\n",
       "    </tr>\n",
       "  </tbody>\n",
       "</table>\n",
       "<p>2 rows × 27 columns</p>\n",
       "</div>"
      ],
      "text/plain": [
       "                                  AdditionalTags  \\\n",
       "0  Afterlife, Humor, Friendship, Friendship/Love   \n",
       "1                    Alternate Universe, Suicide   \n",
       "\n",
       "                       ArchiveWarnings          Author Category  Chapters  \\\n",
       "0            No Archive Warnings Apply  crossingwinter   F/MGen        24   \n",
       "1  Major Character Death, Rape/Non-Con     Batsutousai   F/MM/M         1   \n",
       "\n",
       "                                          Characters  \\\n",
       "0  Ariana Dumbledore, Gideon Prewett, Fabian Prew...   \n",
       "1               Harry Potter, Voldemort, Ron Weasley   \n",
       "\n",
       "                            Fandoms  Kudos Language                 Rating  \\\n",
       "0  ['Harry Potter - J. K. Rowling']   53.0  English  Teen And Up Audiences   \n",
       "1  ['Harry Potter - J. K. Rowling']   80.0  English                 Mature   \n",
       "\n",
       "   ... Bookmarks                                                URL  \\\n",
       "0  ...       504  http://archiveofourown.org/works/488677/chapte...   \n",
       "1  ...         7  http://archiveofourown.org/works/208853?view_a...   \n",
       "\n",
       "                                                Dist       JSD  \\\n",
       "0  [2.7186147e-07, 2.7186147e-07, 2.7186147e-07, ...  0.245356   \n",
       "1  [4.848601e-06, 4.848601e-06, 4.848601e-06, 4.8...  0.165296   \n",
       "\n",
       "   fandom_category  Freq_relationship  history  author_fic_cnt  \\\n",
       "0     harry_potter                  0   5196.0              19   \n",
       "1     harry_potter                  1   5201.0              13   \n",
       "\n",
       "  author_kudos_ave author_history  \n",
       "0        17.473684         5200.0  \n",
       "1       485.307692         5201.0  \n",
       "\n",
       "[2 rows x 27 columns]"
      ]
     },
     "execution_count": 110,
     "metadata": {},
     "output_type": "execute_result"
    }
   ],
   "source": [
    "df_all.head(2)"
   ]
  },
  {
   "cell_type": "code",
   "execution_count": 111,
   "metadata": {},
   "outputs": [],
   "source": [
    "del df_all['Language']\n",
    "del df_all['Title']\n",
    "del df_all['AdditionalTags']\n",
    "del df_all['Fandoms']\n",
    "del df_all['Characters']"
   ]
  },
  {
   "cell_type": "code",
   "execution_count": 112,
   "metadata": {},
   "outputs": [],
   "source": [
    "df_all['Category'].fillna('Unknown', inplace=True)\n",
    "df_all['Category_F_F'] = df_all['Category'].apply(lambda x: 1 if 'F/F' in x else 0)\n",
    "df_all['Category_F_M'] = df_all['Category'].apply(lambda x: 1 if 'F/M' in x else 0)\n",
    "df_all['Category_Gen'] = df_all['Category'].apply(lambda x: 1 if 'Gen' in x else 0)\n",
    "df_all['Category_M_M'] = df_all['Category'].apply(lambda x: 1 if 'M/M' in x else 0)\n",
    "df_all['Category_Multi'] = df_all['Category'].apply(lambda x: 1 if 'Multi' in x else 0)\n",
    "df_all['Category_Other'] = df_all['Category'].apply(lambda x: 1 if 'Other' in x else 0)\n",
    "df_all['Category_Unknown'] = df_all['Category'].apply(lambda x: 1 if 'Unknown' in x else 0)\n",
    "del df_all['Category']"
   ]
  },
  {
   "cell_type": "code",
   "execution_count": 113,
   "metadata": {},
   "outputs": [],
   "source": [
    "df_all['ArchiveWarnings_underage'] = df_all['ArchiveWarnings'].apply(lambda x: 1 if 'Underage' in x else 0)\n",
    "df_all['ArchiveWarnings_death'] = df_all['ArchiveWarnings'].apply(lambda x: 1 if 'Major Character Death' in x else 0)\n",
    "df_all['ArchiveWarnings_choose_no'] = df_all['ArchiveWarnings'].apply(lambda x: 1 if 'Creator Chose Not To Use Archive Warnings' in x else 0)\n",
    "df_all['ArchiveWarnings_no_apply'] = df_all['ArchiveWarnings'].apply(lambda x: 1 if 'No Archive Warnings Apply' in x else 0)\n",
    "df_all['ArchiveWarnings_violence'] = df_all['ArchiveWarnings'].apply(lambda x: 1 if 'Graphic Depictions Of Violence' in x else 0)\n",
    "df_all['ArchiveWarnings_noncon'] = df_all['ArchiveWarnings'].apply(lambda x: 1 if 'Rape/Non-Con' in x else 0)\n",
    "\n",
    "del df_all['ArchiveWarnings']"
   ]
  },
  {
   "cell_type": "code",
   "execution_count": 114,
   "metadata": {},
   "outputs": [],
   "source": [
    "# df_all = df_all[df_all['ArchiveWarnings_blood'] != 1]\n",
    "# df_all = df_all[df_all['ArchiveWarnings_none'] != 1]"
   ]
  },
  {
   "cell_type": "code",
   "execution_count": 115,
   "metadata": {},
   "outputs": [],
   "source": [
    "df_all['Rating_E'] = df_all['Rating'].apply(lambda x: 1 if x == 'Explicit' else 0)\n",
    "df_all['Rating_G'] = df_all['Rating'].apply(lambda x: 1 if x == 'General Audiences' else 0)\n",
    "df_all['Rating_M'] = df_all['Rating'].apply(lambda x: 1 if x == 'Mature' else 0)\n",
    "df_all['Rating_N'] = df_all['Rating'].apply(lambda x: 1 if x == 'Not Rated' else 0)\n",
    "df_all['Rating_T'] = df_all['Rating'].apply(lambda x: 1 if x == 'Teen And Up Audiences' else 0)\n",
    "del df_all['Rating']"
   ]
  },
  {
   "cell_type": "code",
   "execution_count": 116,
   "metadata": {},
   "outputs": [],
   "source": [
    "df_all['Fandom_harry_potter'] = df_all['fandom_category'].apply(lambda x: 1 if x == 'harry_potter' else 0)\n",
    "df_all['Fandom_dcu'] = df_all['fandom_category'].apply(lambda x: 1 if x == 'dcu' else 0)\n",
    "df_all['Fandom_doctor_who'] = df_all['fandom_category'].apply(lambda x: 1 if x == 'doctor_who_&_related_fandoms' else 0)\n",
    "df_all['Fandom_star_wars'] = df_all['fandom_category'].apply(lambda x: 1 if x == 'star_wars_all_media_types' else 0)\n",
    "df_all['Fandom_arthurian'] = df_all['fandom_category'].apply(lambda x: 1 if x == 'arthurian_mythology_&_related_fandoms' else 0)\n",
    "df_all['Fandom_supernatural'] = df_all['fandom_category'].apply(lambda x: 1 if x == 'supernatural' else 0)\n",
    "df_all['Fandom_haikyuu'] = df_all['fandom_category'].apply(lambda x: 1 if x == 'haikyuu' else 0)\n",
    "df_all['Fandom_kuroko_no_basuke'] = df_all['fandom_category'].apply(lambda x: 1 if x == 'kuroko_no_basuke' else 0)\n",
    "df_all['Fandom_hamilton_miranda'] = df_all['fandom_category'].apply(lambda x: 1 if x == 'hamilton_miranda' else 0)\n",
    "df_all['Fandom_dragon_age'] = df_all['fandom_category'].apply(lambda x: 1 if x == 'dragon_age_all_media_types' else 0)\n",
    "df_all['Fandom_the_walking_dead'] = df_all['fandom_category'].apply(lambda x: 1 if x == 'the_walking_dead_&_related_fandoms' else 0)\n",
    "df_all['Fandom_buffy'] = df_all['fandom_category'].apply(lambda x: 1 if x == 'buffy_the_vampire_slayer' else 0)\n",
    "df_all['Fandom_les_miserables'] = df_all['fandom_category'].apply(lambda x: 1 if x == 'les_miserables_all_media_types' else 0)\n",
    "df_all['Fandom_naruto'] = df_all['fandom_category'].apply(lambda x: 1 if x == 'naruto' else 0)\n",
    "df_all['Fandom_tolkien'] = df_all['fandom_category'].apply(lambda x: 1 if x == 'tolkien_j_r_r_works_&_related_fandoms' else 0)\n",
    "df_all['Fandom_shakespare'] = df_all['fandom_category'].apply(lambda x: 1 if x == 'shakespare_william_works' else 0)\n",
    "df_all['Fandom_hetalia'] = df_all['fandom_category'].apply(lambda x: 1 if x == 'hetalia_axis_powers' else 0)\n",
    "df_all['Fandom_attack_on_titan'] = df_all['fandom_category'].apply(lambda x: 1 if x == 'attack_on_titan' else 0)\n",
    "df_all['Fandom_ms_paint_adventures'] = df_all['fandom_category'].apply(lambda x: 1 if x == 'ms_paint_adventures' else 0)\n",
    "df_all['Fandom_marvel'] = df_all['fandom_category'].apply(lambda x: 1 if x == 'marvel' else 0)\n",
    "df_all['Fandom_sailor_moon'] = df_all['fandom_category'].apply(lambda x: 1 if x == 'bishoujo_senshi_sailor_moon' else 0)\n",
    "df_all['Fandom_one_direction'] = df_all['fandom_category'].apply(lambda x: 1 if x == 'one_direction' else 0)\n",
    "df_all['Fandom_sherlock'] = df_all['fandom_category'].apply(lambda x: 1 if x == 'sherlock_holmes_&_related_fandoms' else 0)\n",
    "\n",
    "del df_all['fandom_category']"
   ]
  },
  {
   "cell_type": "code",
   "execution_count": 117,
   "metadata": {},
   "outputs": [],
   "source": [
    "del df_all['PublishDate']\n",
    "del df_all['CompleteDate']\n",
    "del df_all['UpdateDate']"
   ]
  },
  {
   "cell_type": "code",
   "execution_count": 118,
   "metadata": {},
   "outputs": [],
   "source": [
    "del df_all['Author']"
   ]
  },
  {
   "cell_type": "code",
   "execution_count": 119,
   "metadata": {},
   "outputs": [
    {
     "data": {
      "text/plain": [
       "540975"
      ]
     },
     "execution_count": 119,
     "metadata": {},
     "output_type": "execute_result"
    }
   ],
   "source": [
    "len(df_all)"
   ]
  },
  {
   "cell_type": "code",
   "execution_count": 120,
   "metadata": {},
   "outputs": [],
   "source": [
    "# df_t = df_all.sample(100)\n",
    "# for col in df_t.columns.values:\n",
    "#     print(col)\n",
    "#     print(df_t[col].tolist())\n",
    "#     print()"
   ]
  },
  {
   "cell_type": "code",
   "execution_count": 121,
   "metadata": {},
   "outputs": [],
   "source": [
    "# df1 = df_all[df_all.isnull().any(axis=1)]"
   ]
  },
  {
   "cell_type": "code",
   "execution_count": 122,
   "metadata": {},
   "outputs": [
    {
     "data": {
      "text/plain": [
       "array(['Chapters', 'Kudos', 'Words', 'Comments', 'Hits', 'Bookmarks',\n",
       "       'URL', 'Dist', 'JSD', 'Freq_relationship', 'history',\n",
       "       'author_fic_cnt', 'author_kudos_ave', 'author_history',\n",
       "       'Category_F_F', 'Category_F_M', 'Category_Gen', 'Category_M_M',\n",
       "       'Category_Multi', 'Category_Other', 'Category_Unknown',\n",
       "       'ArchiveWarnings_underage', 'ArchiveWarnings_death',\n",
       "       'ArchiveWarnings_choose_no', 'ArchiveWarnings_no_apply',\n",
       "       'ArchiveWarnings_violence', 'ArchiveWarnings_noncon', 'Rating_E',\n",
       "       'Rating_G', 'Rating_M', 'Rating_N', 'Rating_T',\n",
       "       'Fandom_harry_potter', 'Fandom_dcu', 'Fandom_doctor_who',\n",
       "       'Fandom_star_wars', 'Fandom_arthurian', 'Fandom_supernatural',\n",
       "       'Fandom_haikyuu', 'Fandom_kuroko_no_basuke',\n",
       "       'Fandom_hamilton_miranda', 'Fandom_dragon_age',\n",
       "       'Fandom_the_walking_dead', 'Fandom_buffy', 'Fandom_les_miserables',\n",
       "       'Fandom_naruto', 'Fandom_tolkien', 'Fandom_shakespare',\n",
       "       'Fandom_hetalia', 'Fandom_attack_on_titan',\n",
       "       'Fandom_ms_paint_adventures', 'Fandom_marvel',\n",
       "       'Fandom_sailor_moon', 'Fandom_one_direction', 'Fandom_sherlock'],\n",
       "      dtype=object)"
      ]
     },
     "execution_count": 122,
     "metadata": {},
     "output_type": "execute_result"
    }
   ],
   "source": [
    "df_all.columns.values"
   ]
  },
  {
   "cell_type": "code",
   "execution_count": 123,
   "metadata": {},
   "outputs": [],
   "source": [
    "df_all = df_all.rename(columns = {'history':'History', 'Cos': 'Term_novelty', 'JSD': 'Topic_novelty'})"
   ]
  },
  {
   "cell_type": "code",
   "execution_count": 124,
   "metadata": {},
   "outputs": [],
   "source": [
    "def flt(row):\n",
    "    if row['Hits']==0 and row['Kudos']!=0:\n",
    "        return False\n",
    "    else:\n",
    "        return True"
   ]
  },
  {
   "cell_type": "code",
   "execution_count": 125,
   "metadata": {},
   "outputs": [],
   "source": [
    "# df_all['good_kudos'] = df_all.apply(lambda row: flt(row), axis=1)"
   ]
  },
  {
   "cell_type": "code",
   "execution_count": 126,
   "metadata": {},
   "outputs": [],
   "source": [
    "# df_all['good_kudos'].value_counts()"
   ]
  },
  {
   "cell_type": "code",
   "execution_count": 127,
   "metadata": {},
   "outputs": [],
   "source": [
    "# len(df_all[df_all['good_kudos']])"
   ]
  },
  {
   "cell_type": "code",
   "execution_count": 128,
   "metadata": {},
   "outputs": [],
   "source": [
    "# df_all = df_all[df_all['good_kudos']]"
   ]
  },
  {
   "cell_type": "code",
   "execution_count": 129,
   "metadata": {},
   "outputs": [
    {
     "name": "stderr",
     "output_type": "stream",
     "text": [
      "/opt/anaconda3/envs/py37/lib/python3.7/site-packages/pandas/core/arraylike.py:364: RuntimeWarning: divide by zero encountered in log\n",
      "  result = getattr(ufunc, method)(*inputs, **kwargs)\n"
     ]
    }
   ],
   "source": [
    "# df_all['Kudos'] = df_all['Kudos'] + 0.00001\n",
    "# df_all['Hits'] = df_all['Hits'] + 0.00001\n",
    "# df_all = df_all[df_all['Hits']!=0]\n",
    "df_all['kudos_hit_ratio'] = np.log(df_all['Kudos']/df_all['Hits'])\n",
    "df_all = df_all.replace([np.inf, -np.inf], np.nan)\n",
    "df_all = df_all.fillna(0)"
   ]
  },
  {
   "cell_type": "code",
   "execution_count": 130,
   "metadata": {},
   "outputs": [
    {
     "data": {
      "text/plain": [
       "(540975, 540975)"
      ]
     },
     "execution_count": 130,
     "metadata": {},
     "output_type": "execute_result"
    }
   ],
   "source": [
    "len(df_all), len(df_all.dropna())"
   ]
  },
  {
   "cell_type": "code",
   "execution_count": 131,
   "metadata": {},
   "outputs": [
    {
     "data": {
      "text/plain": [
       "array(['Chapters', 'Kudos', 'Words', 'Comments', 'Hits', 'Bookmarks',\n",
       "       'URL', 'Dist', 'Topic_novelty', 'Freq_relationship', 'History',\n",
       "       'author_fic_cnt', 'author_kudos_ave', 'author_history',\n",
       "       'Category_F_F', 'Category_F_M', 'Category_Gen', 'Category_M_M',\n",
       "       'Category_Multi', 'Category_Other', 'Category_Unknown',\n",
       "       'ArchiveWarnings_underage', 'ArchiveWarnings_death',\n",
       "       'ArchiveWarnings_choose_no', 'ArchiveWarnings_no_apply',\n",
       "       'ArchiveWarnings_violence', 'ArchiveWarnings_noncon', 'Rating_E',\n",
       "       'Rating_G', 'Rating_M', 'Rating_N', 'Rating_T',\n",
       "       'Fandom_harry_potter', 'Fandom_dcu', 'Fandom_doctor_who',\n",
       "       'Fandom_star_wars', 'Fandom_arthurian', 'Fandom_supernatural',\n",
       "       'Fandom_haikyuu', 'Fandom_kuroko_no_basuke',\n",
       "       'Fandom_hamilton_miranda', 'Fandom_dragon_age',\n",
       "       'Fandom_the_walking_dead', 'Fandom_buffy', 'Fandom_les_miserables',\n",
       "       'Fandom_naruto', 'Fandom_tolkien', 'Fandom_shakespare',\n",
       "       'Fandom_hetalia', 'Fandom_attack_on_titan',\n",
       "       'Fandom_ms_paint_adventures', 'Fandom_marvel',\n",
       "       'Fandom_sailor_moon', 'Fandom_one_direction', 'Fandom_sherlock',\n",
       "       'kudos_hit_ratio'], dtype=object)"
      ]
     },
     "execution_count": 131,
     "metadata": {},
     "output_type": "execute_result"
    }
   ],
   "source": [
    "df_all.columns.values"
   ]
  },
  {
   "cell_type": "code",
   "execution_count": 132,
   "metadata": {},
   "outputs": [
    {
     "data": {
      "text/html": [
       "<div>\n",
       "<style scoped>\n",
       "    .dataframe tbody tr th:only-of-type {\n",
       "        vertical-align: middle;\n",
       "    }\n",
       "\n",
       "    .dataframe tbody tr th {\n",
       "        vertical-align: top;\n",
       "    }\n",
       "\n",
       "    .dataframe thead th {\n",
       "        text-align: right;\n",
       "    }\n",
       "</style>\n",
       "<table border=\"1\" class=\"dataframe\">\n",
       "  <thead>\n",
       "    <tr style=\"text-align: right;\">\n",
       "      <th></th>\n",
       "      <th>Chapters</th>\n",
       "      <th>Kudos</th>\n",
       "      <th>Words</th>\n",
       "      <th>Comments</th>\n",
       "      <th>Hits</th>\n",
       "      <th>Bookmarks</th>\n",
       "      <th>URL</th>\n",
       "      <th>Dist</th>\n",
       "      <th>Topic_novelty</th>\n",
       "      <th>Freq_relationship</th>\n",
       "      <th>...</th>\n",
       "      <th>Fandom_tolkien</th>\n",
       "      <th>Fandom_shakespare</th>\n",
       "      <th>Fandom_hetalia</th>\n",
       "      <th>Fandom_attack_on_titan</th>\n",
       "      <th>Fandom_ms_paint_adventures</th>\n",
       "      <th>Fandom_marvel</th>\n",
       "      <th>Fandom_sailor_moon</th>\n",
       "      <th>Fandom_one_direction</th>\n",
       "      <th>Fandom_sherlock</th>\n",
       "      <th>kudos_hit_ratio</th>\n",
       "    </tr>\n",
       "  </thead>\n",
       "  <tbody>\n",
       "    <tr>\n",
       "      <th>0</th>\n",
       "      <td>24</td>\n",
       "      <td>53.0</td>\n",
       "      <td>66258.0</td>\n",
       "      <td>20</td>\n",
       "      <td>57576.0</td>\n",
       "      <td>504</td>\n",
       "      <td>http://archiveofourown.org/works/488677/chapte...</td>\n",
       "      <td>[2.7186147e-07, 2.7186147e-07, 2.7186147e-07, ...</td>\n",
       "      <td>0.245356</td>\n",
       "      <td>0</td>\n",
       "      <td>...</td>\n",
       "      <td>0</td>\n",
       "      <td>0</td>\n",
       "      <td>0</td>\n",
       "      <td>0</td>\n",
       "      <td>0</td>\n",
       "      <td>0</td>\n",
       "      <td>0</td>\n",
       "      <td>0</td>\n",
       "      <td>0</td>\n",
       "      <td>-6.990569</td>\n",
       "    </tr>\n",
       "    <tr>\n",
       "      <th>1</th>\n",
       "      <td>1</td>\n",
       "      <td>80.0</td>\n",
       "      <td>3542.0</td>\n",
       "      <td>3</td>\n",
       "      <td>2333.0</td>\n",
       "      <td>7</td>\n",
       "      <td>http://archiveofourown.org/works/208853?view_a...</td>\n",
       "      <td>[4.848601e-06, 4.848601e-06, 4.848601e-06, 4.8...</td>\n",
       "      <td>0.165296</td>\n",
       "      <td>1</td>\n",
       "      <td>...</td>\n",
       "      <td>0</td>\n",
       "      <td>0</td>\n",
       "      <td>0</td>\n",
       "      <td>0</td>\n",
       "      <td>0</td>\n",
       "      <td>0</td>\n",
       "      <td>0</td>\n",
       "      <td>0</td>\n",
       "      <td>0</td>\n",
       "      <td>-3.372884</td>\n",
       "    </tr>\n",
       "  </tbody>\n",
       "</table>\n",
       "<p>2 rows × 56 columns</p>\n",
       "</div>"
      ],
      "text/plain": [
       "   Chapters  Kudos    Words  Comments     Hits  Bookmarks  \\\n",
       "0        24   53.0  66258.0        20  57576.0        504   \n",
       "1         1   80.0   3542.0         3   2333.0          7   \n",
       "\n",
       "                                                 URL  \\\n",
       "0  http://archiveofourown.org/works/488677/chapte...   \n",
       "1  http://archiveofourown.org/works/208853?view_a...   \n",
       "\n",
       "                                                Dist  Topic_novelty  \\\n",
       "0  [2.7186147e-07, 2.7186147e-07, 2.7186147e-07, ...       0.245356   \n",
       "1  [4.848601e-06, 4.848601e-06, 4.848601e-06, 4.8...       0.165296   \n",
       "\n",
       "   Freq_relationship  ...  Fandom_tolkien  Fandom_shakespare  Fandom_hetalia  \\\n",
       "0                  0  ...               0                  0               0   \n",
       "1                  1  ...               0                  0               0   \n",
       "\n",
       "   Fandom_attack_on_titan  Fandom_ms_paint_adventures  Fandom_marvel  \\\n",
       "0                       0                           0              0   \n",
       "1                       0                           0              0   \n",
       "\n",
       "   Fandom_sailor_moon  Fandom_one_direction  Fandom_sherlock  kudos_hit_ratio  \n",
       "0                   0                     0                0        -6.990569  \n",
       "1                   0                     0                0        -3.372884  \n",
       "\n",
       "[2 rows x 56 columns]"
      ]
     },
     "execution_count": 132,
     "metadata": {},
     "output_type": "execute_result"
    }
   ],
   "source": [
    "df_all.head(2)"
   ]
  },
  {
   "cell_type": "code",
   "execution_count": 133,
   "metadata": {},
   "outputs": [],
   "source": [
    "df_all.to_csv('../../data/fanfic_regression_data_20211216_topic_only_no_crossover_author_controls.tsv', sep = '\\t', index=False)"
   ]
  },
  {
   "cell_type": "markdown",
   "metadata": {},
   "source": [
    "### Correlations"
   ]
  },
  {
   "cell_type": "code",
   "execution_count": 134,
   "metadata": {},
   "outputs": [],
   "source": [
    "# df_all = pd.read_csv('../../data/fanfic_regression_data_20210915_no_crossover.tsv', sep = '\\t')"
   ]
  },
  {
   "cell_type": "code",
   "execution_count": 135,
   "metadata": {},
   "outputs": [],
   "source": [
    "df_all = df_all.rename(columns = {'author_fic_cnt':'Author work count',\\\n",
    "                                  'Term_novelty': 'Term novelty', 'Topic_novelty':'Topic novelty', 'History': 'Age'})"
   ]
  },
  {
   "cell_type": "code",
   "execution_count": 136,
   "metadata": {},
   "outputs": [],
   "source": [
    "topic_ave = np.average(df_all['Topic novelty'])\n",
    "df_all['Topic novelty cent'] = df_all['Topic novelty'] - topic_ave\n",
    "df_all['Topic novelty squared'] = np.square(df_all['Topic novelty cent'])"
   ]
  },
  {
   "cell_type": "code",
   "execution_count": 137,
   "metadata": {},
   "outputs": [
    {
     "data": {
      "text/plain": [
       "array(['Chapters', 'Kudos', 'Words', 'Comments', 'Hits', 'Bookmarks',\n",
       "       'URL', 'Dist', 'Topic novelty', 'Freq_relationship', 'Age',\n",
       "       'Author work count', 'author_kudos_ave', 'author_history',\n",
       "       'Category_F_F', 'Category_F_M', 'Category_Gen', 'Category_M_M',\n",
       "       'Category_Multi', 'Category_Other', 'Category_Unknown',\n",
       "       'ArchiveWarnings_underage', 'ArchiveWarnings_death',\n",
       "       'ArchiveWarnings_choose_no', 'ArchiveWarnings_no_apply',\n",
       "       'ArchiveWarnings_violence', 'ArchiveWarnings_noncon', 'Rating_E',\n",
       "       'Rating_G', 'Rating_M', 'Rating_N', 'Rating_T',\n",
       "       'Fandom_harry_potter', 'Fandom_dcu', 'Fandom_doctor_who',\n",
       "       'Fandom_star_wars', 'Fandom_arthurian', 'Fandom_supernatural',\n",
       "       'Fandom_haikyuu', 'Fandom_kuroko_no_basuke',\n",
       "       'Fandom_hamilton_miranda', 'Fandom_dragon_age',\n",
       "       'Fandom_the_walking_dead', 'Fandom_buffy', 'Fandom_les_miserables',\n",
       "       'Fandom_naruto', 'Fandom_tolkien', 'Fandom_shakespare',\n",
       "       'Fandom_hetalia', 'Fandom_attack_on_titan',\n",
       "       'Fandom_ms_paint_adventures', 'Fandom_marvel',\n",
       "       'Fandom_sailor_moon', 'Fandom_one_direction', 'Fandom_sherlock',\n",
       "       'kudos_hit_ratio', 'Topic novelty cent', 'Topic novelty squared'],\n",
       "      dtype=object)"
      ]
     },
     "execution_count": 137,
     "metadata": {},
     "output_type": "execute_result"
    }
   ],
   "source": [
    "df_all.columns.values"
   ]
  },
  {
   "cell_type": "code",
   "execution_count": 138,
   "metadata": {},
   "outputs": [],
   "source": [
    "df_all = df_all.rename(columns = {'kudos_hit_ratio': 'Kudos to hits ratio'})"
   ]
  },
  {
   "cell_type": "code",
   "execution_count": 139,
   "metadata": {},
   "outputs": [],
   "source": [
    "corr = df_all[['Kudos','Bookmarks', 'Comments', 'Hits','Kudos to hits ratio', 'Chapters', \\\n",
    "               'Author work count', 'author_kudos_ave',  'author_history','Words', \\\n",
    "               'Topic novelty', 'Topic novelty squared','Age']].corr()"
   ]
  },
  {
   "cell_type": "code",
   "execution_count": 140,
   "metadata": {},
   "outputs": [],
   "source": [
    "w,v = np.linalg.eig(corr)  "
   ]
  },
  {
   "cell_type": "code",
   "execution_count": 141,
   "metadata": {},
   "outputs": [
    {
     "name": "stdout",
     "output_type": "stream",
     "text": [
      "Kudos 1.0\n",
      "Bookmarks 1.401335749740403\n",
      "Comments 1.5000530098565283\n",
      "Hits 1.5783945691369006\n",
      "Kudos to hits ratio 1.9296564408126804\n",
      "Chapters 1.9505117712497282\n",
      "Author work count 2.361196348984038\n",
      "author_kudos_ave 2.631866009686759\n",
      "author_history 3.5931688322421045\n",
      "Words 3.7422283409790222\n",
      "Topic novelty 5.81710023534419\n",
      "Topic novelty squared 4.6965113297620045\n",
      "Age 5.105500575796091\n"
     ]
    }
   ],
   "source": [
    "for idx, item in enumerate(corr.columns.values):\n",
    "    print(item, np.sqrt(max(w)/w[idx]))\n"
   ]
  },
  {
   "cell_type": "code",
   "execution_count": 142,
   "metadata": {},
   "outputs": [
    {
     "data": {
      "image/png": "[encoded data removed]",
      "text/plain": [
       "<Figure size 720x720 with 2 Axes>"
      ]
     },
     "metadata": {
      "needs_background": "light"
     },
     "output_type": "display_data"
    }
   ],
   "source": [
    "labels = corr.columns.values\n",
    "fig, ax = plt.subplots(figsize = (10,10))\n",
    "\n",
    "# kmin = np.amin(corr.as_matrix())\n",
    "# kmax = np.amax(corr.as_matrix())\n",
    "\n",
    "norm = colors.Normalize(vmin = -1, vmax = 1)\n",
    "im = ax.imshow(corr, norm=norm,cmap='coolwarm')\n",
    "\n",
    "# We want to show all ticks...\n",
    "ax.set_xticks(np.arange(len(labels)))\n",
    "ax.set_yticks(np.arange(len(labels)))\n",
    "# ... and label them with the respective list entries\n",
    "ax.set_xticklabels(labels)\n",
    "ax.set_yticklabels(labels)\n",
    "\n",
    "# Rotate the tick labels and set their alignment.\n",
    "plt.setp(ax.get_xticklabels(), rotation=45, ha=\"right\",\n",
    "         rotation_mode=\"anchor\", fontsize='15')\n",
    "\n",
    "plt.setp(ax.get_yticklabels(), fontsize='15')\n",
    "\n",
    "# Loop over data dimensions and create text annotations.\n",
    "for i in range(len(labels)):\n",
    "    for j in range(len(labels)):\n",
    "        text = ax.text(j, i, round(corr.values[i, j], 2),\n",
    "                       ha=\"center\", va=\"center\", color=\"black\")\n",
    "\n",
    "ax.set_title(\"\")\n",
    "fig.colorbar(im, shrink=0.7)\n",
    "fig.tight_layout()\n",
    "plt.savefig('variables_corr_20211216_topic_only_no_crossover_author_control.pdf', format='pdf')"
   ]
  },
  {
   "cell_type": "code",
   "execution_count": null,
   "metadata": {},
   "outputs": [],
   "source": []
  }
 ],
 "metadata": {
  "kernelspec": {
   "display_name": "Python 3 (ipykernel)",
   "language": "python",
   "name": "python3"
  },
  "language_info": {
   "codemirror_mode": {
    "name": "ipython",
    "version": 3
   },
   "file_extension": ".py",
   "mimetype": "text/x-python",
   "name": "python",
   "nbconvert_exporter": "python",
   "pygments_lexer": "ipython3",
   "version": "3.7.7"
  }
 },
 "nbformat": 4,
 "nbformat_minor": 2
}
