{
 "cells": [
  {
   "cell_type": "code",
   "execution_count": 1,
   "id": "1e727422",
   "metadata": {},
   "outputs": [],
   "source": [
    "import pandas as pd\n",
    "import os"
   ]
  },
  {
   "cell_type": "code",
   "execution_count": 2,
   "id": "ce3c42a2",
   "metadata": {},
   "outputs": [],
   "source": [
    "lda_path = '../../data/lda_merged_chs_20211216_no_crossover/'"
   ]
  },
  {
   "cell_type": "code",
   "execution_count": 3,
   "id": "4d41a521",
   "metadata": {},
   "outputs": [],
   "source": [
    "fandom_list = ['harry_potter',]\n",
    "#  'dcu',\n",
    "#  'doctor_who_&_related_fandoms',\n",
    "#  'star_wars_all_media_types',\n",
    "#  'arthurian_mythology_&_related_fandoms',\n",
    "#  'supernatural',\n",
    "#  'haikyuu',\n",
    "#  'kuroko_no_basuke',\n",
    "#  'hamilton_miranda',\n",
    "#  'dragon_age_all_media_types',\n",
    "#  'the_walking_dead_&_related_fandoms',\n",
    "#  'buffy_the_vampire_slayer',\n",
    "# #  'les_miserables_all_media_types',\n",
    "#  'naruto',\n",
    "#  'tolkien_j_r_r_works_&_related_fandoms',\n",
    "#  'shakespare_william_works',\n",
    "#  'hetalia_axis_powers',\n",
    "#  'attack_on_titan',\n",
    "#  'ms_paint_adventures',\n",
    "#  'marvel',\n",
    "#  'bishoujo_senshi_sailor_moon',\n",
    "#  'one_direction',\n",
    "#  'sherlock_holmes_&_related_fandoms']"
   ]
  },
  {
   "cell_type": "code",
   "execution_count": 5,
   "id": "524f7dac",
   "metadata": {},
   "outputs": [
    {
     "name": "stdout",
     "output_type": "stream",
     "text": [
      "harry_potter\n",
      "\n"
     ]
    }
   ],
   "source": [
    "for fandom in fandom_list:\n",
    "    df = pd.read_csv(os.path.join(lda_path, \\\n",
    "                    fandom + '_lda_with_dist_merged_chs_no_crossover_20211216.tsv'), sep ='\\t',  quotechar=None, quoting=3)\n",
    "    df = df.sort_values(by='JSD', ascending=False)\n",
    "    print(fandom)\n",
    "    print()"
   ]
  },
  {
   "cell_type": "code",
   "execution_count": 6,
   "id": "bbcedf00",
   "metadata": {},
   "outputs": [
    {
     "data": {
      "text/html": [
       "<div>\n",
       "<style scoped>\n",
       "    .dataframe tbody tr th:only-of-type {\n",
       "        vertical-align: middle;\n",
       "    }\n",
       "\n",
       "    .dataframe tbody tr th {\n",
       "        vertical-align: top;\n",
       "    }\n",
       "\n",
       "    .dataframe thead th {\n",
       "        text-align: right;\n",
       "    }\n",
       "</style>\n",
       "<table border=\"1\" class=\"dataframe\">\n",
       "  <thead>\n",
       "    <tr style=\"text-align: right;\">\n",
       "      <th></th>\n",
       "      <th>index</th>\n",
       "      <th>AdditionalTags</th>\n",
       "      <th>ArchiveWarnings</th>\n",
       "      <th>Author</th>\n",
       "      <th>Category</th>\n",
       "      <th>Chapters</th>\n",
       "      <th>Characters</th>\n",
       "      <th>Fandoms</th>\n",
       "      <th>Kudos</th>\n",
       "      <th>Language</th>\n",
       "      <th>...</th>\n",
       "      <th>Words</th>\n",
       "      <th>PublishDate</th>\n",
       "      <th>UpdateDate</th>\n",
       "      <th>CompleteDate</th>\n",
       "      <th>Comments</th>\n",
       "      <th>Hits</th>\n",
       "      <th>Bookmarks</th>\n",
       "      <th>URL</th>\n",
       "      <th>Dist</th>\n",
       "      <th>JSD</th>\n",
       "    </tr>\n",
       "  </thead>\n",
       "  <tbody>\n",
       "    <tr>\n",
       "      <th>5161</th>\n",
       "      <td>13963</td>\n",
       "      <td>Dark, Torture, Bondage, Breathplay, Feathers &amp;...</td>\n",
       "      <td>No Archive Warnings Apply</td>\n",
       "      <td>Ellen Smithee</td>\n",
       "      <td>M/M</td>\n",
       "      <td>1</td>\n",
       "      <td>Remus Lupin, Walden Macnair</td>\n",
       "      <td>['Harry Potter - J. K. Rowling']</td>\n",
       "      <td>7.0</td>\n",
       "      <td>English</td>\n",
       "      <td>...</td>\n",
       "      <td>987.0</td>\n",
       "      <td>2011-05-27</td>\n",
       "      <td>NaN</td>\n",
       "      <td>2011-05-27</td>\n",
       "      <td>0</td>\n",
       "      <td>375.0</td>\n",
       "      <td>0</td>\n",
       "      <td>http://archiveofourown.org/works/204733?view_a...</td>\n",
       "      <td>[1.8702747e-05, 1.8702747e-05, 1.8702747e-05, ...</td>\n",
       "      <td>0.687739</td>\n",
       "    </tr>\n",
       "    <tr>\n",
       "      <th>6272</th>\n",
       "      <td>38017</td>\n",
       "      <td>Pre - Philosopher\\'s Stone</td>\n",
       "      <td>Creator Chose Not To Use Archive Warnings</td>\n",
       "      <td>jeeg94</td>\n",
       "      <td>Gen</td>\n",
       "      <td>1</td>\n",
       "      <td>Sirius Black, Remus Lupin, Lily Evans, James P...</td>\n",
       "      <td>['Harry Potter - J. K. Rowling']</td>\n",
       "      <td>8.0</td>\n",
       "      <td>English</td>\n",
       "      <td>...</td>\n",
       "      <td>961.0</td>\n",
       "      <td>2011-08-27</td>\n",
       "      <td>2011-08-27</td>\n",
       "      <td>NaN</td>\n",
       "      <td>0</td>\n",
       "      <td>369.0</td>\n",
       "      <td>0</td>\n",
       "      <td>http://archiveofourown.org/works/376903</td>\n",
       "      <td>[1.905063e-05, 1.905063e-05, 1.905063e-05, 1.9...</td>\n",
       "      <td>0.686369</td>\n",
       "    </tr>\n",
       "  </tbody>\n",
       "</table>\n",
       "<p>2 rows × 23 columns</p>\n",
       "</div>"
      ],
      "text/plain": [
       "      index                                     AdditionalTags  \\\n",
       "5161  13963  Dark, Torture, Bondage, Breathplay, Feathers &...   \n",
       "6272  38017                         Pre - Philosopher\\'s Stone   \n",
       "\n",
       "                                ArchiveWarnings         Author Category  \\\n",
       "5161                  No Archive Warnings Apply  Ellen Smithee      M/M   \n",
       "6272  Creator Chose Not To Use Archive Warnings         jeeg94      Gen   \n",
       "\n",
       "      Chapters                                         Characters  \\\n",
       "5161         1                        Remus Lupin, Walden Macnair   \n",
       "6272         1  Sirius Black, Remus Lupin, Lily Evans, James P...   \n",
       "\n",
       "                               Fandoms  Kudos Language  ...  Words  \\\n",
       "5161  ['Harry Potter - J. K. Rowling']    7.0  English  ...  987.0   \n",
       "6272  ['Harry Potter - J. K. Rowling']    8.0  English  ...  961.0   \n",
       "\n",
       "     PublishDate  UpdateDate  CompleteDate Comments   Hits Bookmarks  \\\n",
       "5161  2011-05-27         NaN    2011-05-27        0  375.0         0   \n",
       "6272  2011-08-27  2011-08-27           NaN        0  369.0         0   \n",
       "\n",
       "                                                    URL  \\\n",
       "5161  http://archiveofourown.org/works/204733?view_a...   \n",
       "6272            http://archiveofourown.org/works/376903   \n",
       "\n",
       "                                                   Dist       JSD  \n",
       "5161  [1.8702747e-05, 1.8702747e-05, 1.8702747e-05, ...  0.687739  \n",
       "6272  [1.905063e-05, 1.905063e-05, 1.905063e-05, 1.9...  0.686369  \n",
       "\n",
       "[2 rows x 23 columns]"
      ]
     },
     "execution_count": 6,
     "metadata": {},
     "output_type": "execute_result"
    }
   ],
   "source": [
    "df.head(2)"
   ]
  },
  {
   "cell_type": "code",
   "execution_count": 7,
   "id": "ecfa7ce4",
   "metadata": {},
   "outputs": [
    {
     "data": {
      "text/plain": [
       "50609"
      ]
     },
     "execution_count": 7,
     "metadata": {},
     "output_type": "execute_result"
    }
   ],
   "source": [
    "len(df)"
   ]
  },
  {
   "cell_type": "code",
   "execution_count": 8,
   "id": "220ed4ec",
   "metadata": {},
   "outputs": [
    {
     "data": {
      "text/plain": [
       "array(['index', 'AdditionalTags', 'ArchiveWarnings', 'Author', 'Category',\n",
       "       'Chapters', 'Characters', 'Fandoms', 'Kudos', 'Language', 'Rating',\n",
       "       'Relationship', 'Title', 'Words', 'PublishDate', 'UpdateDate',\n",
       "       'CompleteDate', 'Comments', 'Hits', 'Bookmarks', 'URL', 'Dist',\n",
       "       'JSD'], dtype=object)"
      ]
     },
     "execution_count": 8,
     "metadata": {},
     "output_type": "execute_result"
    }
   ],
   "source": [
    "df.columns.values"
   ]
  },
  {
   "cell_type": "code",
   "execution_count": 18,
   "id": "3001fa2f",
   "metadata": {},
   "outputs": [],
   "source": [
    "df['AdditionalTags'].fillna('None', inplace=True)"
   ]
  },
  {
   "cell_type": "code",
   "execution_count": 21,
   "id": "0b5d9bad",
   "metadata": {},
   "outputs": [],
   "source": [
    "all_tags = []\n",
    "for item in df['AdditionalTags']:\n",
    "    item = item.split(',')\n",
    "    item = [tag.strip() for tag in item]\n",
    "    all_tags.extend(item)"
   ]
  },
  {
   "cell_type": "code",
   "execution_count": 23,
   "id": "844aa985",
   "metadata": {},
   "outputs": [
    {
     "data": {
      "text/plain": [
       "218052"
      ]
     },
     "execution_count": 23,
     "metadata": {},
     "output_type": "execute_result"
    }
   ],
   "source": [
    "len(all_tags)"
   ]
  },
  {
   "cell_type": "code",
   "execution_count": 13,
   "id": "4b147204",
   "metadata": {},
   "outputs": [
    {
     "data": {
      "text/plain": [
       "array(['Ambiguous/Open Ending, References to Suicide, Character Death',\n",
       "       'Alternate Universe - Canon Divergence, OOC Tom and Hermione', nan,\n",
       "       nan,\n",
       "       'Post - Deathly Hallows, Humor, Romance, Sexual Content, In Public, Fingerfucking, Caught, Risk Aware Consensual Kink, Love, Naughty, Smut, romione'],\n",
       "      dtype=object)"
      ]
     },
     "execution_count": 13,
     "metadata": {},
     "output_type": "execute_result"
    }
   ],
   "source": [
    "df.sample(5)['AdditionalTags'].values"
   ]
  },
  {
   "cell_type": "code",
   "execution_count": null,
   "id": "a581bc2d",
   "metadata": {},
   "outputs": [],
   "source": []
  },
  {
   "cell_type": "code",
   "execution_count": null,
   "id": "dbdda51e",
   "metadata": {},
   "outputs": [],
   "source": []
  },
  {
   "cell_type": "code",
   "execution_count": 25,
   "id": "8fcd4cea",
   "metadata": {},
   "outputs": [
    {
     "data": {
      "text/plain": [
       "array(['http://archiveofourown.org/works/421017',\n",
       "       'http://archiveofourown.org/works/45784',\n",
       "       'http://archiveofourown.org/works/315427',\n",
       "       'http://archiveofourown.org/works/4388405',\n",
       "       'http://archiveofourown.org/works/1287526/chapters/2669221'],\n",
       "      dtype=object)"
      ]
     },
     "execution_count": 25,
     "metadata": {},
     "output_type": "execute_result"
    }
   ],
   "source": [
    "df.sort_values(by='JSD', ascending=False).head()['URL'].values"
   ]
  },
  {
   "cell_type": "code",
   "execution_count": 26,
   "id": "197257fa",
   "metadata": {},
   "outputs": [],
   "source": [
    "temp = df.sort_values(by='JSD', ascending=False).head(1)"
   ]
  },
  {
   "cell_type": "code",
   "execution_count": 21,
   "id": "ba3e17d7",
   "metadata": {},
   "outputs": [
    {
     "name": "stdout",
     "output_type": "stream",
     "text": [
      "index [13963]\n",
      "\n",
      "AdditionalTags ['Dark, Torture, Bondage, Breathplay, Feathers & Featherplay']\n",
      "\n",
      "ArchiveWarnings ['No Archive Warnings Apply']\n",
      "\n",
      "Author ['Ellen Smithee']\n",
      "\n",
      "Category ['M/M']\n",
      "\n",
      "Chapters [1]\n",
      "\n",
      "Characters ['Remus Lupin, Walden Macnair']\n",
      "\n",
      "Fandoms [\"['Harry Potter - J. K. Rowling']\"]\n",
      "\n",
      "Kudos [7.]\n",
      "\n",
      "Language ['English']\n",
      "\n",
      "Rating ['Explicit']\n",
      "\n",
      "Relationship ['Remus Lupin/Walden Macnair']\n",
      "\n",
      "Title ['The Executioner']\n",
      "\n",
      "Words [987.]\n",
      "\n",
      "PublishDate ['2011-05-27']\n",
      "\n",
      "UpdateDate [nan]\n",
      "\n",
      "CompleteDate ['2011-05-27']\n",
      "\n",
      "Comments [0]\n",
      "\n",
      "Hits [375.]\n",
      "\n",
      "Bookmarks [0]\n",
      "\n",
      "URL ['http://archiveofourown.org/works/204733?view_adult=true']\n",
      "\n",
      "Dist ['[1.8702747e-05, 1.8702747e-05, 1.8702747e-05, 1.8702747e-05, 1.8702747e-05, 1.8702747e-05, 1.8702747e-05, 1.8702747e-05, 1.8702747e-05, 1.8702747e-05, 1.8702747e-05, 1.8702747e-05, 1.8702747e-05, 1.8702747e-05, 1.8702747e-05, 1.8702747e-05, 1.8702747e-05, 1.8702747e-05, 1.8702747e-05, 1.8702747e-05, 1.8702747e-05, 1.8702747e-05, 1.8702747e-05, 1.8702747e-05, 1.8702747e-05, 1.8702747e-05, 1.8702747e-05, 1.8702747e-05, 1.8702747e-05, 1.8702747e-05, 1.8702747e-05, 1.8702747e-05, 1.8702747e-05, 1.8702747e-05, 1.8702747e-05, 1.8702747e-05, 1.8702747e-05, 1.8702747e-05, 1.8702747e-05, 1.8702747e-05, 1.8702747e-05, 1.8702747e-05, 1.8702747e-05, 1.8702747e-05, 1.8702747e-05, 1.8702747e-05, 1.8702747e-05, 1.8702747e-05, 1.8702747e-05, 1.8702747e-05, 1.8702747e-05, 1.8702747e-05, 1.8702747e-05, 1.8702747e-05, 1.8702747e-05, 1.8702747e-05, 1.8702747e-05, 1.8702747e-05, 1.8702747e-05, 1.8702747e-05, 1.8702747e-05, 1.8702747e-05, 1.8702747e-05, 1.8702747e-05, 0.9981473, 1.8702747e-05, 1.8702747e-05, 1.8702747e-05, 1.8702747e-05, 1.8702747e-05, 1.8702747e-05, 1.8702747e-05, 1.8702747e-05, 1.8702747e-05, 1.8702747e-05, 1.8702747e-05, 1.9781754e-05, 1.8702747e-05, 1.8702747e-05, 1.8702747e-05, 1.8702747e-05, 1.8702747e-05, 1.8702747e-05, 1.8702747e-05, 1.8702747e-05, 1.8702747e-05, 1.8702747e-05, 1.8702747e-05, 1.8702747e-05, 1.8702747e-05, 1.8702747e-05, 1.8702747e-05, 1.8702747e-05, 1.8702747e-05, 1.8702747e-05, 1.8702747e-05, 1.8702747e-05, 1.8702747e-05, 1.8702747e-05, 1.8702747e-05]']\n",
      "\n",
      "JSD [0.68773885]\n",
      "\n"
     ]
    }
   ],
   "source": [
    "for col in temp.columns:\n",
    "    print(col, temp[col].values)\n",
    "    print()"
   ]
  },
  {
   "cell_type": "code",
   "execution_count": null,
   "id": "8bde871c",
   "metadata": {},
   "outputs": [],
   "source": []
  }
 ],
 "metadata": {
  "kernelspec": {
   "display_name": "Python 3 (ipykernel)",
   "language": "python",
   "name": "python3"
  },
  "language_info": {
   "codemirror_mode": {
    "name": "ipython",
    "version": 3
   },
   "file_extension": ".py",
   "mimetype": "text/x-python",
   "name": "python",
   "nbconvert_exporter": "python",
   "pygments_lexer": "ipython3",
   "version": "3.7.7"
  }
 },
 "nbformat": 4,
 "nbformat_minor": 5
}
