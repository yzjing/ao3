{
 "cells": [
  {
   "cell_type": "code",
   "execution_count": 4,
   "metadata": {},
   "outputs": [
    {
     "name": "stderr",
     "output_type": "stream",
     "text": [
      "/opt/anaconda3/envs/py37/lib/python3.7/site-packages/ipykernel_launcher.py:16: MatplotlibDeprecationWarning: \n",
      "The mpl_toolkits.axes_grid1.colorbar module was deprecated in Matplotlib 3.2 and will be removed two minor releases later. Use matplotlib.colorbar instead.\n",
      "  app.launch_new_instance()\n"
     ]
    }
   ],
   "source": [
    "import pandas as pd\n",
    "import os\n",
    "import matplotlib.pyplot as plt\n",
    "%matplotlib inline\n",
    "import numpy as np\n",
    "import random\n",
    "from scipy import stats, spatial\n",
    "import pickle\n",
    "from matplotlib import rc\n",
    "rc('font',**{'family':'sans-serif','sans-serif':['Helvetica']})\n",
    "## for Palatino and other serif fonts use:\n",
    "#rc('font',**{'family':'serif','serif':['Palatino']})\n",
    "rc('text', usetex=True)\n",
    "import csv\n",
    "from mpl_toolkits.axes_grid1 import make_axes_locatable\n",
    "from mpl_toolkits.axes_grid1.colorbar import colorbar\n"
   ]
  },
  {
   "cell_type": "code",
   "execution_count": 28,
   "metadata": {},
   "outputs": [],
   "source": [
    "lda_path = '../../data/lda_merged_chs_20211216_no_crossover/'"
   ]
  },
  {
   "cell_type": "code",
   "execution_count": 29,
   "metadata": {},
   "outputs": [],
   "source": [
    "# fandom_list = ['harry_potter',\n",
    "#  'dcu',\n",
    "#  'doctor_who_&_related_fandoms',\n",
    "#  'arthurian_mythology_&_related_fandoms',\n",
    "#  'supernatural',\n",
    "#  'haikyuu',\n",
    "#  'kuroko_no_basuke',\n",
    "#  'hamilton_miranda',\n",
    "#  'dragon_age_all_media_types',\n",
    "#  'the_walking_dead_&_related_fandoms',\n",
    "#  'buffy_the_vampire_slayer',\n",
    "#  'naruto',\n",
    "#  'tolkien_j_r_r_works_&_related_fandoms',\n",
    "#  'hetalia_axis_powers',\n",
    "#  'attack_on_titan',\n",
    "#  'ms_paint_adventures',\n",
    "#  'marvel',\n",
    "#  'one_direction',\n",
    "#  'sherlock_holmes_&_related_fandoms']"
   ]
  },
  {
   "cell_type": "code",
   "execution_count": 30,
   "metadata": {},
   "outputs": [],
   "source": [
    "fandom_list = [i for i in os.listdir(lda_path) if 'tsv' in i]"
   ]
  },
  {
   "cell_type": "code",
   "execution_count": 31,
   "metadata": {},
   "outputs": [
    {
     "data": {
      "text/plain": [
       "['harry_potter_lda_with_dist_merged_chs_no_crossover_20211216.tsv',\n",
       " 'bishoujo_senshi_sailor_moon_lda_with_dist_merged_chs_no_crossover_20211216.tsv',\n",
       " 'buffy_the_vampire_slayer_lda_with_dist_merged_chs_no_crossover_20211216.tsv',\n",
       " 'star_wars_all_media_types_lda_with_dist_merged_chs_no_crossover_20211216.tsv',\n",
       " 'arthurian_mythology_&_related_fandoms_lda_with_dist_merged_chs_no_crossover_20211216.tsv',\n",
       " 'doctor_who_&_related_fandoms_lda_with_dist_merged_chs_no_crossover_20211216.tsv',\n",
       " 'supernatural_lda_with_dist_merged_chs_no_crossover_20211216.tsv',\n",
       " 'the_walking_dead_&_related_fandoms_lda_with_dist_merged_chs_no_crossover_20211216.tsv',\n",
       " 'hetalia_axis_powers_lda_with_dist_merged_chs_no_crossover_20211216.tsv',\n",
       " 'dcu_lda_with_dist_merged_chs_no_crossover_20211216.tsv',\n",
       " 'marvel_lda_with_dist_merged_chs_no_crossover_20211216.tsv',\n",
       " 'ms_paint_adventures_lda_with_dist_merged_chs_no_crossover_20211216.tsv',\n",
       " 'hamilton_miranda_lda_with_dist_merged_chs_no_crossover_20211216.tsv',\n",
       " 'attack_on_titan_lda_with_dist_merged_chs_no_crossover_20211216.tsv',\n",
       " 'tolkien_j_r_r_works_&_related_fandoms_lda_with_dist_merged_chs_no_crossover_20211216.tsv',\n",
       " 'dragon_age_all_media_types_lda_with_dist_merged_chs_no_crossover_20211216.tsv',\n",
       " 'haikyuu_lda_with_dist_merged_chs_no_crossover_20211216.tsv',\n",
       " 'sherlock_holmes_&_related_fandoms_lda_with_dist_merged_chs_no_crossover_20211216.tsv',\n",
       " 'shakespare_william_works_lda_with_dist_merged_chs_no_crossover_20211216.tsv',\n",
       " 'naruto_lda_with_dist_merged_chs_no_crossover_20211216.tsv',\n",
       " 'kuroko_no_basuke_lda_with_dist_merged_chs_no_crossover_20211216.tsv',\n",
       " 'one_direction_lda_with_dist_merged_chs_no_crossover_20211216.tsv']"
      ]
     },
     "execution_count": 31,
     "metadata": {},
     "output_type": "execute_result"
    }
   ],
   "source": [
    "fandom_list"
   ]
  },
  {
   "cell_type": "code",
   "execution_count": 32,
   "metadata": {},
   "outputs": [],
   "source": [
    "def var_bootstrap_resample(li):\n",
    "    if len(li) > 0:\n",
    "        var_original = np.var(li)\n",
    "        var_s = []\n",
    "        for i in range(100):\n",
    "            sample = []\n",
    "            for i in range(len(li)):\n",
    "                sample.append(random.choice(li))\n",
    "            var_s.append(np.var(sample))\n",
    "        tail = sorted(var_s)[5]\n",
    "        head = sorted(var_s)[95]\n",
    "        return (var_original, tail, head)"
   ]
  },
  {
   "cell_type": "code",
   "execution_count": 33,
   "metadata": {},
   "outputs": [],
   "source": [
    "def ave_bootstrap_resample(li):\n",
    "    if len(li) > 0:\n",
    "        ave_original = np.average(li)\n",
    "        ave_s = []\n",
    "        for i in range(100):\n",
    "            sample = []\n",
    "            for i in range(len(li)):\n",
    "                sample.append(random.choice(li))\n",
    "            ave_s.append(np.average(sample))\n",
    "        tail = sorted(ave_s)[5]\n",
    "        head = sorted(ave_s)[95]\n",
    "        return (ave_original, tail, head)"
   ]
  },
  {
   "cell_type": "code",
   "execution_count": 34,
   "metadata": {},
   "outputs": [],
   "source": [
    "def create_normed_dfs(df, field):\n",
    "\n",
    "#     turn into z scores\n",
    "    df[field] = np.log(df[field]+1)\n",
    "    df = df.replace([np.inf, -np.inf], np.nan)\n",
    "    df[field].dropna()\n",
    "    df[field] = (df[field] - df[field].mean())/df[field].std(ddof=0)\n",
    "\n",
    "    return df"
   ]
  },
  {
   "cell_type": "code",
   "execution_count": 35,
   "metadata": {},
   "outputs": [],
   "source": [
    "def create_dict(df, nov_field, suc_field, metric):\n",
    "    \n",
    "    # Make bins\n",
    "    df[nov_field] = df[nov_field].astype(float)\n",
    "    term_n = sorted(df[nov_field].tolist())\n",
    "    term_n = np.quantile(term_n, [0.1, 0.2, 0.3, 0.4, 0.5, 0.6, 0.7, 0.8, 0.9])\n",
    "    term_n = np.insert(term_n, 0, 0)\n",
    "    term_n = np.concatenate([term_n, [1]])\n",
    "    dic = {}\n",
    "    for i in range(len(term_n)-1):\n",
    "        df_s = df[(df[nov_field] >= term_n[i]) & (df[nov_field] < term_n[i+1])]\n",
    "        li = df_s[suc_field].tolist()\n",
    "        if len(li) > 0:\n",
    "            if metric == 'ave':\n",
    "                dic[term_n[i]] = ave_bootstrap_resample(li)\n",
    "            elif metric == 'var':\n",
    "                dic[term_n[i]] = var_bootstrap_resample(li)\n",
    "    return dic"
   ]
  },
  {
   "cell_type": "code",
   "execution_count": 36,
   "metadata": {},
   "outputs": [],
   "source": [
    "def generate_res(path, nov_field, suc_field, metric):\n",
    "    df_all = []\n",
    "    fandom_list = [i for i in os.listdir(path) if 'tsv' in i]\n",
    "    for i,fandom in enumerate(fandom_list):\n",
    "        df = pd.read_csv(os.path.join(path,fandom), sep = '\\t')\n",
    "        df = create_normed_dfs(df, suc_field)\n",
    "        df = df.replace([np.inf, -np.inf], np.nan)\n",
    "        df = df[[nov_field, suc_field]].dropna()\n",
    "        df_all.append(df)\n",
    "\n",
    "    df = pd.concat(df_all)\n",
    "    df = df.sort_values(by = nov_field)\n",
    "    df = df.sort_values(by = suc_field)\n",
    "    dic = create_dict(df, nov_field, suc_field, metric)\n",
    "\n",
    "    return dic\n",
    "    "
   ]
  },
  {
   "cell_type": "code",
   "execution_count": 37,
   "metadata": {},
   "outputs": [],
   "source": [
    "def generate_save_dics(suffix='None'):\n",
    "    lda_kudos_dict_var = generate_res(lda_path, 'JSD','Kudos', 'var')\n",
    "    lda_hits_dict_var = generate_res(lda_path, 'JSD','Hits', 'var')\n",
    "    lda_comments_dict_var = generate_res(lda_path, 'JSD','Comments', 'var')\n",
    "    lda_bookmarks_dict_var = generate_res(lda_path, 'JSD','Bookmarks', 'var')\n",
    "    pickle.dump(lda_kudos_dict_var, open('lda_kudos_dict_var_{}.p'.format(suffix), 'wb'))\n",
    "    pickle.dump(lda_hits_dict_var, open('lda_hits_dict_var_{}.p'.format(suffix), 'wb'))\n",
    "    pickle.dump(lda_comments_dict_var, open('lda_comments_dict_var_{}.p'.format(suffix), 'wb'))\n",
    "    pickle.dump(lda_bookmarks_dict_var, open('lda_bookmarks_dict_var_{}.p'.format(suffix), 'wb'))\n",
    "    \n",
    "    lda_kudos_dict_ave = generate_res(lda_path, 'JSD','Kudos', 'ave')\n",
    "    lda_hits_dict_ave = generate_res(lda_path, 'JSD','Hits', 'ave')\n",
    "    lda_comments_dict_ave = generate_res(lda_path, 'JSD','Comments', 'ave')\n",
    "    lda_bookmarks_dict_ave = generate_res(lda_path, 'JSD','Bookmarks', 'ave')\n",
    "    pickle.dump(lda_kudos_dict_ave, open('lda_kudos_dict_ave_{}.p'.format(suffix), 'wb'))\n",
    "    pickle.dump(lda_hits_dict_ave, open('lda_hits_dict_ave_{}.p'.format(suffix), 'wb'))\n",
    "    pickle.dump(lda_comments_dict_ave, open('lda_comments_dict_ave_{}.p'.format(suffix), 'wb'))\n",
    "    pickle.dump(lda_bookmarks_dict_ave, open('lda_bookmarks_dict_ave_{}.p'.format(suffix), 'wb'))\n",
    "    \n"
   ]
  },
  {
   "cell_type": "code",
   "execution_count": 38,
   "metadata": {},
   "outputs": [],
   "source": [
    "generate_save_dics(suffix='no_crossover')"
   ]
  },
  {
   "cell_type": "code",
   "execution_count": 39,
   "metadata": {},
   "outputs": [],
   "source": [
    "def load_dics(suffix='None'):\n",
    "    global lda_kudos_dict_var, lda_hits_dict_var, lda_comments_dict_var, lda_bookmarks_dict_var\n",
    "    global lda_kudos_dict_ave, lda_hits_dict_ave, lda_comments_dict_ave, lda_bookmarks_dict_ave\n",
    "    \n",
    "    lda_kudos_dict_var = pickle.load(open('lda_kudos_dict_var_{}.p'.format(suffix), 'rb'))\n",
    "    lda_hits_dict_var = pickle.load(open('lda_hits_dict_var_{}.p'.format(suffix), 'rb'))\n",
    "    lda_comments_dict_var = pickle.load(open('lda_comments_dict_var_{}.p'.format(suffix), 'rb'))\n",
    "    lda_bookmarks_dict_var = pickle.load(open('lda_bookmarks_dict_var_{}.p'.format(suffix), 'rb'))\n",
    "      \n",
    "    lda_kudos_dict_ave = pickle.load(open('lda_kudos_dict_ave_{}.p'.format(suffix), 'rb'))\n",
    "    lda_hits_dict_ave = pickle.load(open('lda_hits_dict_ave_{}.p'.format(suffix), 'rb'))\n",
    "    lda_comments_dict_ave = pickle.load(open('lda_comments_dict_ave_{}.p'.format(suffix), 'rb'))\n",
    "    lda_bookmarks_dict_ave = pickle.load(open('lda_bookmarks_dict_ave_{}.p'.format(suffix), 'rb'))\n",
    "    \n"
   ]
  },
  {
   "cell_type": "code",
   "execution_count": 40,
   "metadata": {},
   "outputs": [],
   "source": [
    "load_dics(suffix='no_crossover')"
   ]
  },
  {
   "cell_type": "code",
   "execution_count": 41,
   "metadata": {},
   "outputs": [
    {
     "data": {
      "text/plain": [
       "{0.0: (1.0569462284041962, 1.0462248827137521, 1.0660709518660498),\n",
       " 0.1665569023228727: (1.0436456343307912,\n",
       "  1.0320102899161177,\n",
       "  1.0545926287078395),\n",
       " 0.22418516686047948: (0.9886668359536144,\n",
       "  0.9772995664476418,\n",
       "  1.0000927306303677),\n",
       " 0.27335421484016253: (0.9572598632112326,\n",
       "  0.9480635067546119,\n",
       "  0.9679041436192659),\n",
       " 0.31721540011917565: (0.9229054974122952,\n",
       "  0.9158389218891639,\n",
       "  0.9315788326819539),\n",
       " 0.35720671324855147: (0.8932894597299795,\n",
       "  0.8833932591865732,\n",
       "  0.9013517433563626),\n",
       " 0.3953700388957713: (0.8783074725863802,\n",
       "  0.8702718464510172,\n",
       "  0.8874290438897842),\n",
       " 0.43410438191747286: (0.8767058934243298,\n",
       "  0.8686107439547344,\n",
       "  0.8869798386737803),\n",
       " 0.4767607901166684: (0.8787359404329174,\n",
       "  0.869055909397285,\n",
       "  0.8873891299845533),\n",
       " 0.5325352040303116: (0.9024844244766286,\n",
       "  0.8945887514256152,\n",
       "  0.9112422492398807)}"
      ]
     },
     "execution_count": 41,
     "metadata": {},
     "output_type": "execute_result"
    }
   ],
   "source": [
    "lda_kudos_dict_var"
   ]
  },
  {
   "cell_type": "code",
   "execution_count": 42,
   "metadata": {},
   "outputs": [],
   "source": [
    "def create_xs(keys):\n",
    "    xs = []\n",
    "    for i in range(len(keys)-1):\n",
    "        xs.append(keys[i] + (keys[i+1] - keys[i])/2)\n",
    "    return xs"
   ]
  },
  {
   "cell_type": "code",
   "execution_count": 43,
   "metadata": {},
   "outputs": [],
   "source": [
    "def extract_plot_vals(dic):\n",
    "    keys = sorted(dic.keys())\n",
    "    keys.append(1)\n",
    "    x = create_xs(keys)\n",
    "    y = [dic[j][0] for j in keys[:-1]]\n",
    "    lower_error = [dic[j][0] - dic[j][1] for j in keys[:-1]]\n",
    "    upper_error = [dic[j][2] - dic[j][0] for j in keys[:-1]]\n",
    "    asymmetric_error = [lower_error, upper_error]\n",
    "    return x,y,asymmetric_error"
   ]
  },
  {
   "cell_type": "code",
   "execution_count": 44,
   "metadata": {},
   "outputs": [
    {
     "name": "stdout",
     "output_type": "stream",
     "text": [
      "[0.08327845116143635, 0.1953710345916761, 0.24876969085032102, 0.2952848074796691, 0.33721105668386353, 0.37628837607216137, 0.4147372104066221, 0.4554325860170706, 0.5046479970734901, 0.7662676020151558]\n"
     ]
    }
   ],
   "source": [
    "x,y,e = extract_plot_vals(lda_kudos_dict_ave)\n",
    "print(x)"
   ]
  },
  {
   "cell_type": "markdown",
   "metadata": {},
   "source": [
    "## Add heatmap"
   ]
  },
  {
   "cell_type": "code",
   "execution_count": 45,
   "metadata": {},
   "outputs": [],
   "source": [
    "# df_all = []\n",
    "# for i,fandom in enumerate(fandom_list):\n",
    "#     df_tfidf = pd.read_csv(os.path.join(tfidf_path,fandom + '_tfidf_merged_chapters_20230115_largest_rel.tsv'), \\\n",
    "#                            sep = '\\t',  quoting=csv.QUOTE_NONE)\n",
    "#     del df_tfidf['index']\n",
    "#     df_lda = pd.read_csv(os.path.join(lda_path,fandom + '_lda_with_dist_merged_chs_20230115_largest_rel.tsv'),\\\n",
    "#                          sep = '\\t',  quoting=csv.QUOTE_NONE)\n",
    "# #     df['Topic_entropy'] = df.apply(lambda row: entropy(eval(row['Dist'])), axis=1)\n",
    "\n",
    "#     del df_lda['index']\n",
    "#     df_tfidf = df_tfidf.astype('object')\n",
    "#     df_lda = df_lda.astype('object')\n",
    "\n",
    "#     #     df_tfidf['Chapters'] = df_tfidf.astype('object')\n",
    "#     df = pd.merge(df_tfidf, df_lda, on=['AdditionalTags', 'ArchiveWarnings', 'Author', 'Bookmarks', 'Category',\\\n",
    "#  'Chapters' ,'Characters','Comments' ,'CompleteDate',\\\n",
    "#  'Fandoms', 'Hits' ,'Kudos', 'Language' ,'PublishDate' ,'Rating',\\\n",
    "#  'Relationship','Title' ,'URL' ,'UpdateDate' ,'Words'], how='inner')\n",
    "\n",
    "#     df = df.replace([np.inf, -np.inf], np.nan)\n",
    "#     df['Hits'].fillna(0, inplace=True)\n",
    "#     df['Kudos'].fillna(0, inplace=True)\n",
    "#     df['Bookmarks'].fillna(0, inplace=True)\n",
    "#     df['Comments'].fillna(0, inplace=True)\n",
    "\n",
    "#     df_all.append(df)"
   ]
  },
  {
   "cell_type": "code",
   "execution_count": 46,
   "metadata": {},
   "outputs": [
    {
     "ename": "NameError",
     "evalue": "name 'df_all' is not defined",
     "output_type": "error",
     "traceback": [
      "\u001b[0;31m---------------------------------------------------------------------------\u001b[0m",
      "\u001b[0;31mNameError\u001b[0m                                 Traceback (most recent call last)",
      "\u001b[0;32m/var/folders/9t/lplpnk8j495cb3drsnvfhsfw0000gn/T/ipykernel_65362/3473904194.py\u001b[0m in \u001b[0;36m<module>\u001b[0;34m\u001b[0m\n\u001b[0;32m----> 1\u001b[0;31m \u001b[0mdf_all\u001b[0m \u001b[0;34m=\u001b[0m \u001b[0mpd\u001b[0m\u001b[0;34m.\u001b[0m\u001b[0mconcat\u001b[0m\u001b[0;34m(\u001b[0m\u001b[0mdf_all\u001b[0m\u001b[0;34m)\u001b[0m\u001b[0;34m\u001b[0m\u001b[0;34m\u001b[0m\u001b[0m\n\u001b[0m",
      "\u001b[0;31mNameError\u001b[0m: name 'df_all' is not defined"
     ]
    }
   ],
   "source": [
    "df_all = pd.concat(df_all)"
   ]
  },
  {
   "cell_type": "code",
   "execution_count": 47,
   "metadata": {},
   "outputs": [
    {
     "ename": "NameError",
     "evalue": "name 'df_all' is not defined",
     "output_type": "error",
     "traceback": [
      "\u001b[0;31m---------------------------------------------------------------------------\u001b[0m",
      "\u001b[0;31mNameError\u001b[0m                                 Traceback (most recent call last)",
      "\u001b[0;32m/var/folders/9t/lplpnk8j495cb3drsnvfhsfw0000gn/T/ipykernel_65362/2032080598.py\u001b[0m in \u001b[0;36m<module>\u001b[0;34m\u001b[0m\n\u001b[0;32m----> 1\u001b[0;31m \u001b[0mdf_all\u001b[0m\u001b[0;34m.\u001b[0m\u001b[0mhead\u001b[0m\u001b[0;34m(\u001b[0m\u001b[0;36m2\u001b[0m\u001b[0;34m)\u001b[0m\u001b[0;34m\u001b[0m\u001b[0;34m\u001b[0m\u001b[0m\n\u001b[0m",
      "\u001b[0;31mNameError\u001b[0m: name 'df_all' is not defined"
     ]
    }
   ],
   "source": [
    "df_all.head(2)"
   ]
  },
  {
   "cell_type": "code",
   "execution_count": 48,
   "metadata": {
    "scrolled": true
   },
   "outputs": [
    {
     "data": {
      "image/png": "[encoded data removed]",
      "text/plain": [
       "<Figure size 1080x360 with 2 Axes>"
      ]
     },
     "metadata": {
      "needs_background": "light"
     },
     "output_type": "display_data"
    }
   ],
   "source": [
    "fig, axes = plt.subplots(1,2,figsize = (15,5))\n",
    "# fig.subplots_adjust(bottom = 0.4)\n",
    "\n",
    "\n",
    "\n",
    "x, y, err = extract_plot_vals(lda_kudos_dict_ave)\n",
    "axes[0].errorbar(x, y, yerr=err, color='black')\n",
    "axes[0].scatter(x, y, label = 'Kudos',facecolor='none',edgecolor='black')\n",
    "\n",
    "x, y, err = extract_plot_vals(lda_hits_dict_ave)\n",
    "axes[0].errorbar(x, y, yerr=err, c='orange')\n",
    "axes[0].scatter(x, y, marker='s', label = 'Hits',facecolor='none',edgecolor='orange')\n",
    "\n",
    "x, y, err = extract_plot_vals(lda_comments_dict_ave)\n",
    "axes[0].errorbar(x, y, yerr=err, c='purple')\n",
    "axes[0].scatter(x, y, marker='D', label = 'Comments',facecolor='none',edgecolor='purple')\n",
    "\n",
    "x, y, err = extract_plot_vals(lda_bookmarks_dict_ave)\n",
    "axes[0].errorbar(x, y, yerr=err, c='green')\n",
    "axes[0].scatter(x, y, marker = '<', label = 'Bookmarks',facecolor='none',edgecolor='green')\n",
    "\n",
    "# plt.legend(prop={'size': 15})\n",
    "axes[0].set_ylabel('Average of Success ($\\it{z}$-score)',fontsize=20)\n",
    "axes[0].set_xlabel('Topic novelty',fontsize=20)\n",
    "axes[0].tick_params(labelsize=20)\n",
    "\n",
    "\n",
    "x, y, err = extract_plot_vals(lda_kudos_dict_var)\n",
    "axes[1].errorbar(x, y, yerr=err, color='black')\n",
    "axes[1].scatter(x, y, label = 'Kudos',facecolor='none',edgecolor='black')\n",
    "\n",
    "x, y, err = extract_plot_vals(lda_hits_dict_var)\n",
    "axes[1].errorbar(x, y, yerr=err, c='orange')\n",
    "axes[1].scatter(x, y, marker='s', label = 'Hits',facecolor='none',edgecolor='orange')\n",
    "\n",
    "x, y, err = extract_plot_vals(lda_comments_dict_var)\n",
    "axes[1].errorbar(x, y, yerr=err, c='purple')\n",
    "axes[1].scatter(x, y, marker='D', label = 'Comments',facecolor='none',edgecolor='purple')\n",
    "\n",
    "x, y, err = extract_plot_vals(lda_bookmarks_dict_var)\n",
    "axes[1].errorbar(x, y, yerr=err, c='green')\n",
    "axes[1].scatter(x, y, marker = '<', label = 'Bookmarks',facecolor='none',edgecolor='green')\n",
    "axes[1].set_ylabel('Variance of Success ($\\it{z}$-score)',fontsize=20)\n",
    "axes[1].set_xlabel('Topic novelty',fontsize=20)\n",
    "axes[1].tick_params(labelsize=20)\n",
    "plt.legend(prop={'size': 15})\n",
    "# plt.xlabel('$\\it{s}^{(topic)}$, topic novelty', fontsize = 15)\n",
    "# plt.ylabel('Variance of Success ($\\it{z}$-score)',fontsize=20)\n",
    "\n",
    "# fig.text(0.45, 0.66, '$\\it{s}^{(term)}$, term novelty',fontsize=20)\n",
    "# fig.text(0.45, 0.35, '$\\it{s}^{(topic)}$, topic novelty',fontsize=20)\n",
    "# fig.text(0.04, 0.97, 'a',fontsize=20)\n",
    "# fig.text(0.54, 0.97, 'b',fontsize=20)\n",
    "# fig.text(0.04, 0.64, 'c',fontsize=20)\n",
    "# fig.text(0.54, 0.64, 'd',fontsize=20)\n",
    "# fig.text(0.04, 0.33, 'e',fontsize=20)\n",
    "# fig.text(0.54, 0.33, 'f',fontsize=20)\n",
    "\n",
    "plt.subplots_adjust(left=None, bottom=None, right=None, top=None, wspace=0.3, hspace=0.3)\n",
    "\n",
    "plt.tight_layout()\n",
    "plt.savefig('scatter_var_ave_topic_only_no_crossover.pdf', type='pdf', bbox_inches='tight')\n"
   ]
  },
  {
   "cell_type": "code",
   "execution_count": null,
   "metadata": {},
   "outputs": [],
   "source": [
    "# fandom_list = [i for i in os.listdir(lda_path) if 'tsv' in i]\n",
    "# for i,fandom in enumerate(fandom_list):\n",
    "#     df = pd.read_csv(os.path.join(lda_path,fandom), sep = '\\t')\n",
    "#     plt.figure()\n",
    "#     plt.hist(df.JSD.tolist())\n",
    "# #     plt.title(str(fandom))"
   ]
  },
  {
   "cell_type": "code",
   "execution_count": null,
   "metadata": {},
   "outputs": [],
   "source": [
    "# lda_path_2 = '../../data/lda_merged_chs_202001/'\n",
    "# fandom_list = [i for i in os.listdir(lda_path_2) if 'tsv' in i]\n",
    "# for i,fandom in enumerate(fandom_list):\n",
    "#     df = pd.read_csv(os.path.join(lda_path_2,fandom), sep = '\\t')\n",
    "#     plt.figure()\n",
    "#     plt.hist(df.JSD.tolist())\n",
    "# #     plt.title(str(fandom))"
   ]
  },
  {
   "cell_type": "code",
   "execution_count": null,
   "metadata": {},
   "outputs": [],
   "source": []
  }
 ],
 "metadata": {
  "anaconda-cloud": {},
  "kernelspec": {
   "display_name": "Python 3 (ipykernel)",
   "language": "python",
   "name": "python3"
  },
  "language_info": {
   "codemirror_mode": {
    "name": "ipython",
    "version": 3
   },
   "file_extension": ".py",
   "mimetype": "text/x-python",
   "name": "python",
   "nbconvert_exporter": "python",
   "pygments_lexer": "ipython3",
   "version": "3.7.7"
  }
 },
 "nbformat": 4,
 "nbformat_minor": 1
}
